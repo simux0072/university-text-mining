{
  "cells": [
    {
      "cell_type": "markdown",
      "metadata": {
        "id": "hZ2cb6c-qZip"
      },
      "source": [
        "# Lab3.2 Sentiment analysis using VADER"
      ]
    },
    {
      "cell_type": "markdown",
      "metadata": {
        "id": "KlNaI3bWqZiq"
      },
      "source": [
        "Copyright: Vrije Universiteit Amsterdam, Faculty of Humanities, CLTL"
      ]
    },
    {
      "cell_type": "markdown",
      "metadata": {
        "id": "-CTw4EVKqZiq"
      },
      "source": [
        "In this notebook, we introduce how to use [VADER](https://github.com/cjhutto/vaderSentiment) as part of the NLTK to perform sentiment analysis.\n",
        "\n",
        "**at the end of this notebook, you will**:\n",
        "* have VADER installed on your computer\n",
        "* be able to load the VADER model\n",
        "* be able to apply the VADER model on new sentences:\n",
        "    * with and without lemmatization\n",
        "    * selecting only certain parts of speech, e.g., only providing the adjectives from a sentences as input to VADER"
      ]
    },
    {
      "cell_type": "markdown",
      "metadata": {
        "id": "U5_2PbMRqZiq"
      },
      "source": [
        "### About VADER\n",
        "VADER is a rule-based system that makes use of a lexicon. The lexicon can be found [here](https://github.com/cjhutto/vaderSentiment/blob/master/vaderSentiment/vader_lexicon.txt). It associates words with valence scores; a group of crowd workers rated words on a scale of -4 (strongly negative) to 4 (very positive). The lexicon includes the mean and standard deviation as well as the raw ratings. VADER is particularly useful for tweets; the lexicon includes emoji's and internet slang as well as 'regular' words.\n",
        "\n",
        "VADER is a very basic tool that relies mostly on the lexicon created by crowd annotations. It can easily be adapted to suit your needs, but the aproach remains basic."
      ]
    },
    {
      "cell_type": "markdown",
      "metadata": {
        "id": "f-gArts-qZiq"
      },
      "source": [
        "## Downloading VADER package\n",
        "Please run the following commands first to download VADER to your computer."
      ]
    },
    {
      "cell_type": "code",
      "execution_count": 1,
      "metadata": {
        "id": "AOeoRBQUqZiq"
      },
      "outputs": [],
      "source": [
        "import nltk"
      ]
    },
    {
      "cell_type": "code",
      "execution_count": 2,
      "metadata": {
        "id": "hn33VkPsqZir",
        "outputId": "d1879f51-01e2-4570-f567-40d1a6a176b2",
        "colab": {
          "base_uri": "https://localhost:8080/"
        }
      },
      "outputs": [
        {
          "output_type": "stream",
          "name": "stderr",
          "text": [
            "[nltk_data] Downloading package vader_lexicon to /root/nltk_data...\n"
          ]
        },
        {
          "output_type": "execute_result",
          "data": {
            "text/plain": [
              "True"
            ]
          },
          "metadata": {},
          "execution_count": 2
        }
      ],
      "source": [
        "### once you downloaded vader successfully you do not need to do this again.\n",
        "### You can command it out in your personal copy as I did below to skip this.\n",
        "\n",
        "nltk.download('vader_lexicon', quiet=False)"
      ]
    },
    {
      "cell_type": "markdown",
      "metadata": {
        "id": "1-6-1qXIqZir"
      },
      "source": [
        "To verify that the download was successful, you can run the following command."
      ]
    },
    {
      "cell_type": "code",
      "execution_count": 3,
      "metadata": {
        "id": "DFmL8eIVqZir"
      },
      "outputs": [],
      "source": [
        "from nltk.sentiment import vader"
      ]
    },
    {
      "cell_type": "markdown",
      "metadata": {
        "id": "eslGWsoKqZir"
      },
      "source": [
        "## Using VADER\n",
        "The model can be loaded in the following way."
      ]
    },
    {
      "cell_type": "code",
      "execution_count": 4,
      "metadata": {
        "scrolled": true,
        "id": "h_8INr0eqZir"
      },
      "outputs": [],
      "source": [
        "from nltk.sentiment.vader import SentimentIntensityAnalyzer"
      ]
    },
    {
      "cell_type": "code",
      "execution_count": 5,
      "metadata": {
        "id": "LAnyDWJ4qZir"
      },
      "outputs": [],
      "source": [
        "vader_model = SentimentIntensityAnalyzer()"
      ]
    },
    {
      "cell_type": "markdown",
      "metadata": {
        "id": "OOaYYIdRqZir"
      },
      "source": [
        "We will use the following three sentences:"
      ]
    },
    {
      "cell_type": "code",
      "execution_count": 6,
      "metadata": {
        "id": "pc-STkTiqZir"
      },
      "outputs": [],
      "source": [
        "sentences = [\"Here are my sentences.\",\n",
        "             \"It's a nice day.\",\n",
        "             \"It's a rainy day.\"]"
      ]
    },
    {
      "cell_type": "markdown",
      "metadata": {
        "id": "saxScSgzqZir"
      },
      "source": [
        "The next for loop assigns a sentiment score from VADER to each sentence.\n",
        "\n",
        "As you can see, VADER outputs 4 scores. `neg`, `neu` and `pos` reflect the ratios of the proportions of text with negative, neutral and positive valence. The `compound` score is the result of the rule-based computation, and reflects the valence of the sentence as a whole."
      ]
    },
    {
      "cell_type": "code",
      "execution_count": 7,
      "metadata": {
        "id": "nLRD5aDWqZis",
        "outputId": "5b7db83f-fa0e-4e1c-d68d-43c0e61bf073",
        "colab": {
          "base_uri": "https://localhost:8080/"
        }
      },
      "outputs": [
        {
          "output_type": "stream",
          "name": "stdout",
          "text": [
            "\n",
            "INPUT SENTENCE Here are my sentences.\n",
            "VADER OUTPUT {'neg': 0.0, 'neu': 0.714, 'pos': 0.286, 'compound': 0.0516}\n",
            "\n",
            "INPUT SENTENCE It's a nice day.\n",
            "VADER OUTPUT {'neg': 0.0, 'neu': 0.417, 'pos': 0.583, 'compound': 0.4215}\n",
            "\n",
            "INPUT SENTENCE It's a rainy day.\n",
            "VADER OUTPUT {'neg': 0.394, 'neu': 0.606, 'pos': 0.0, 'compound': -0.0772}\n"
          ]
        }
      ],
      "source": [
        "for sent in sentences:\n",
        "    scores = vader_model.polarity_scores(sent)\n",
        "    print()\n",
        "    print('INPUT SENTENCE', sent)\n",
        "    print('VADER OUTPUT', scores)"
      ]
    },
    {
      "cell_type": "markdown",
      "metadata": {
        "id": "545ksoEaqZis"
      },
      "source": [
        "## Using VADER with SpaCy\n",
        "We can manipulate the input to VADER by providing the lemmas as input instead of the words and by only providing words with certain parts of speech, e.g., only adjectives. We use spaCy for the lemmatization and part of speech tagging."
      ]
    },
    {
      "cell_type": "code",
      "execution_count": 8,
      "metadata": {
        "id": "gUfyuQd-qZis"
      },
      "outputs": [],
      "source": [
        "import spacy\n",
        "nlp = spacy.load('en_core_web_sm')"
      ]
    },
    {
      "cell_type": "markdown",
      "metadata": {
        "id": "zToH2qdIqZis"
      },
      "source": [
        "The function `run_vader` defines an API to process texts (`textual_unit`) using different settings. The function operates on texts, and assumes the SpaCy English model is loaded as `nlp` and VADER as `vader_model`. The keyword arguments can be used to control the use of lemmatization and select parts-of-speech to process.\n",
        "\n",
        "Take some time to analyse the function, which uses certain SpaCy token properties to process the text in different ways and returns the VADER sentiment."
      ]
    },
    {
      "cell_type": "code",
      "execution_count": 9,
      "metadata": {
        "id": "FZk_dLBTqZis"
      },
      "outputs": [],
      "source": [
        "def run_vader(textual_unit,\n",
        "              lemmatize=False,\n",
        "              parts_of_speech_to_consider=None,\n",
        "              verbose=0):\n",
        "    \"\"\"\n",
        "    Run VADER on a sentence from spacy\n",
        "\n",
        "    :param str textual unit: a textual unit, e.g., sentence, sentences (one string)\n",
        "    (by looping over doc.sents)\n",
        "    :param bool lemmatize: If True, provide lemmas to VADER instead of words\n",
        "    :param set parts_of_speech_to_consider:\n",
        "    -None or empty set: all parts of speech are provided\n",
        "    -non-empty set: only these parts of speech are considered.\n",
        "    :param int verbose: if set to 1, information is printed\n",
        "    about input and output\n",
        "\n",
        "    :rtype: dict\n",
        "    :return: vader output dict\n",
        "    \"\"\"\n",
        "    doc = nlp(textual_unit)\n",
        "\n",
        "    input_to_vader = []\n",
        "\n",
        "    for sent in doc.sents:\n",
        "        for token in sent:\n",
        "\n",
        "            to_add = token.text\n",
        "\n",
        "            if lemmatize:\n",
        "                to_add = token.lemma_\n",
        "\n",
        "                if to_add == '-PRON-':\n",
        "                    to_add = token.text\n",
        "\n",
        "            if parts_of_speech_to_consider:\n",
        "                if token.pos_ in parts_of_speech_to_consider:\n",
        "                    input_to_vader.append(to_add)\n",
        "            else:\n",
        "                input_to_vader.append(to_add)\n",
        "\n",
        "    scores = vader_model.polarity_scores(' '.join(input_to_vader))\n",
        "\n",
        "    if verbose >= 1:\n",
        "        print()\n",
        "        print('INPUT SENTENCE', sent)\n",
        "        print('INPUT TO VADER', input_to_vader)\n",
        "        print('VADER OUTPUT', scores)\n",
        "\n",
        "    return scores"
      ]
    },
    {
      "cell_type": "markdown",
      "metadata": {
        "id": "dkivw8WIqZis"
      },
      "source": [
        "We can now use various API settings to experiment with processing text in different ways."
      ]
    },
    {
      "cell_type": "markdown",
      "metadata": {
        "id": "RvNJGZNOqZis"
      },
      "source": [
        "#### Provide VADER with lemmas"
      ]
    },
    {
      "cell_type": "code",
      "execution_count": 10,
      "metadata": {
        "id": "_lvZBKLRqZis"
      },
      "outputs": [],
      "source": [
        "sentences = [\"Here are my sentences.\",\n",
        "             \"It's a nice day.\",\n",
        "             \"It's a rainy day.\"]"
      ]
    },
    {
      "cell_type": "code",
      "execution_count": 16,
      "metadata": {
        "id": "l7HR7h81qZis",
        "outputId": "30776101-e222-43a8-accb-63e074b060fe",
        "colab": {
          "base_uri": "https://localhost:8080/"
        }
      },
      "outputs": [
        {
          "output_type": "execute_result",
          "data": {
            "text/plain": [
              "{'neg': 0.0, 'neu': 0.517, 'pos': 0.483, 'compound': 0.4215}"
            ]
          },
          "metadata": {},
          "execution_count": 16
        }
      ],
      "source": [
        "run_vader(sentences[1], lemmatize=True)"
      ]
    },
    {
      "cell_type": "markdown",
      "metadata": {
        "id": "UGMHEp4eqZit"
      },
      "source": [
        "Do you notice any differences with the previous output?"
      ]
    },
    {
      "cell_type": "markdown",
      "source": [
        "Yes, the \"neu\", and \"pos\" values a different, but the compound score is the same, compared to the previous scores. In this case, the score for \"neu\" and \"pos\" are 0.1 and -0.1 points different (respectivly)."
      ],
      "metadata": {
        "id": "wYcyHPF-sdQF"
      }
    },
    {
      "cell_type": "markdown",
      "metadata": {
        "id": "FIl1VbGOqZit"
      },
      "source": [
        "#### Verbose output\n",
        "If you want the function to print more information, you can set the keyword argument `verbose` to True."
      ]
    },
    {
      "cell_type": "code",
      "execution_count": 17,
      "metadata": {
        "id": "lphhmwufqZit",
        "outputId": "add3d658-87bf-41e3-f827-546ae8482bb3",
        "colab": {
          "base_uri": "https://localhost:8080/"
        }
      },
      "outputs": [
        {
          "output_type": "stream",
          "name": "stdout",
          "text": [
            "\n",
            "INPUT SENTENCE It's a nice day.\n",
            "INPUT TO VADER ['it', 'be', 'a', 'nice', 'day', '.']\n",
            "VADER OUTPUT {'neg': 0.0, 'neu': 0.517, 'pos': 0.483, 'compound': 0.4215}\n"
          ]
        },
        {
          "output_type": "execute_result",
          "data": {
            "text/plain": [
              "{'neg': 0.0, 'neu': 0.517, 'pos': 0.483, 'compound': 0.4215}"
            ]
          },
          "metadata": {},
          "execution_count": 17
        }
      ],
      "source": [
        "run_vader(sentences[1], lemmatize=True, verbose=1)"
      ]
    },
    {
      "cell_type": "markdown",
      "metadata": {
        "id": "BwypUTfrqZit"
      },
      "source": [
        "#### Using specific parts-of-speech\n",
        "You can also filter on part of speech using the keyword argument `parts_of_speech_to_consider`."
      ]
    },
    {
      "cell_type": "markdown",
      "metadata": {
        "id": "hD3HI5hgqZit"
      },
      "source": [
        "Only consider nouns:"
      ]
    },
    {
      "cell_type": "code",
      "execution_count": 18,
      "metadata": {
        "id": "Ogk7Ro_rqZit",
        "outputId": "b3f7b43a-1551-43ed-8b1a-024879118c98",
        "colab": {
          "base_uri": "https://localhost:8080/"
        }
      },
      "outputs": [
        {
          "output_type": "stream",
          "name": "stdout",
          "text": [
            "\n",
            "INPUT SENTENCE It's a nice day.\n",
            "INPUT TO VADER ['day']\n",
            "VADER OUTPUT {'neg': 0.0, 'neu': 1.0, 'pos': 0.0, 'compound': 0.0}\n"
          ]
        },
        {
          "output_type": "execute_result",
          "data": {
            "text/plain": [
              "{'neg': 0.0, 'neu': 1.0, 'pos': 0.0, 'compound': 0.0}"
            ]
          },
          "metadata": {},
          "execution_count": 18
        }
      ],
      "source": [
        "run_vader(sentences[1],\n",
        "          lemmatize=True,\n",
        "          parts_of_speech_to_consider={'NOUN'},\n",
        "          verbose=1)"
      ]
    },
    {
      "cell_type": "markdown",
      "metadata": {
        "id": "j5xHRoSDqZit"
      },
      "source": [
        "Only verbs:"
      ]
    },
    {
      "cell_type": "code",
      "execution_count": 19,
      "metadata": {
        "id": "T4kgjNUfqZit",
        "outputId": "b2d65202-1208-48df-d024-47a456a4df49",
        "colab": {
          "base_uri": "https://localhost:8080/"
        }
      },
      "outputs": [
        {
          "output_type": "stream",
          "name": "stdout",
          "text": [
            "\n",
            "INPUT SENTENCE It's a nice day.\n",
            "INPUT TO VADER []\n",
            "VADER OUTPUT {'neg': 0.0, 'neu': 0.0, 'pos': 0.0, 'compound': 0.0}\n"
          ]
        },
        {
          "output_type": "execute_result",
          "data": {
            "text/plain": [
              "{'neg': 0.0, 'neu': 0.0, 'pos': 0.0, 'compound': 0.0}"
            ]
          },
          "metadata": {},
          "execution_count": 19
        }
      ],
      "source": [
        "run_vader(sentences[1],\n",
        "          lemmatize=True,\n",
        "          parts_of_speech_to_consider={'VERB'},\n",
        "          verbose=1)"
      ]
    },
    {
      "cell_type": "markdown",
      "metadata": {
        "id": "oy2nam_2qZit"
      },
      "source": [
        "Only adjectives:"
      ]
    },
    {
      "cell_type": "code",
      "execution_count": 20,
      "metadata": {
        "id": "F7Qw3EnGqZit",
        "outputId": "56d10e3d-e543-4099-fc0f-65534327cb2d",
        "colab": {
          "base_uri": "https://localhost:8080/"
        }
      },
      "outputs": [
        {
          "output_type": "stream",
          "name": "stdout",
          "text": [
            "\n",
            "INPUT SENTENCE It's a nice day.\n",
            "INPUT TO VADER ['nice']\n",
            "VADER OUTPUT {'neg': 0.0, 'neu': 0.0, 'pos': 1.0, 'compound': 0.4215}\n"
          ]
        },
        {
          "output_type": "execute_result",
          "data": {
            "text/plain": [
              "{'neg': 0.0, 'neu': 0.0, 'pos': 1.0, 'compound': 0.4215}"
            ]
          },
          "metadata": {},
          "execution_count": 20
        }
      ],
      "source": [
        "run_vader(sentences[1],\n",
        "          lemmatize=True,\n",
        "          parts_of_speech_to_consider={'ADJ'},\n",
        "          verbose=1)"
      ]
    },
    {
      "cell_type": "markdown",
      "metadata": {
        "id": "Ekaqo6EXqZit"
      },
      "source": [
        "## End of this Notebook"
      ]
    }
  ],
  "metadata": {
    "kernelspec": {
      "display_name": "Python 3 (ipykernel)",
      "language": "python",
      "name": "python3"
    },
    "language_info": {
      "codemirror_mode": {
        "name": "ipython",
        "version": 3
      },
      "file_extension": ".py",
      "mimetype": "text/x-python",
      "name": "python",
      "nbconvert_exporter": "python",
      "pygments_lexer": "ipython3",
      "version": "3.12.3"
    },
    "colab": {
      "provenance": []
    }
  },
  "nbformat": 4,
  "nbformat_minor": 0
}