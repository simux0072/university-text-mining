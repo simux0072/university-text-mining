{
  "cells": [
    {
      "cell_type": "markdown",
      "metadata": {
        "id": "Zrlkwakxcd5q"
      },
      "source": [
        "# Lab3 - Assignment Sentiment"
      ]
    },
    {
      "cell_type": "markdown",
      "metadata": {
        "id": "dGQjg-wvcd5r"
      },
      "source": [
        "Copyright: Vrije Universiteit Amsterdam, Faculty of Humanities, CLTL"
      ]
    },
    {
      "cell_type": "markdown",
      "metadata": {
        "id": "qvM68FWccd5s"
      },
      "source": [
        "This notebook describes the LAB-3 assignment of the Text Mining course. It is about sentiment analysis.\n",
        "\n",
        "The aims of the assignment are:\n",
        "* Learn how to run a rule-based sentiment analysis module (VADER)\n",
        "* Learn how to run a machine learning sentiment analysis module (Scikit-Learn/ Naive Bayes)\n",
        "* Learn how to run scikit-learn metrics for the quantitative evaluation\n",
        "* Learn how to perform and interpret a quantitative evaluation of the outcomes of the tools (in terms of Precision, Recall, and F<sub>1</sub>)\n",
        "* Learn how to evaluate the results qualitatively (by examining the data)\n",
        "* Get insight into differences between the two applied methods\n",
        "* Get insight into the effects of using linguistic preprocessing\n",
        "* Be able to describe differences between the two methods in terms of their results\n",
        "* Get insight into issues when applying these methods across different  domains\n",
        "\n",
        "In this assignment, you are going to create your own gold standard set from 50 tweets. You will the VADER and scikit-learn classifiers to these tweets and evaluate the results by using evaluation metrics and inspecting the data.\n",
        "\n",
        "We recommend you go through the notebooks in the following order:\n",
        "* **Read the assignment (see below)**\n",
        "* **Lab3.2-Sentiment-analysis-with-VADER.ipynb**\n",
        "* **Lab3.3-Sentiment-analysis.with-scikit-learn.ipynb**\n",
        "* **Answer the questions of the assignment (see below) using the provided notebooks and submit**\n",
        "\n",
        "In this assignment you are asked to perform both quantitative evaluations and error analyses:\n",
        "* a quantitative evaluation concerns the scores (Precision, Recall, and F<sub>1</sub>) provided by scikit's classification_report. It includes the scores per category, as well as micro and macro averages. Discuss whether the scores are balanced or not between the different categories (positive, negative, neutral) and between precision and recall. Discuss the shortcomings (if any) of the classifier based on these scores\n",
        "* an error analysis regarding the misclassifications of the classifier. It involves going through the texts and trying to understand what has gone wrong. It servers to get insight in what could be done to improve the performance of the classifier. Do you observe patterns in misclassifications?  Discuss why these errors are made and propose ways to solve them."
      ]
    },
    {
      "cell_type": "markdown",
      "metadata": {
        "id": "Twu983mxcd5t"
      },
      "source": [
        "## Credits\n",
        "The notebooks in this block have been originally created by [Marten Postma](https://martenpostma.github.io) and [Isa Maks](https://research.vu.nl/en/persons/e-maks). Adaptations were made by [Filip Ilievski](http://ilievski.nl)."
      ]
    },
    {
      "cell_type": "markdown",
      "metadata": {
        "id": "p6mZYRi9cd5t"
      },
      "source": [
        "## Part I: VADER assignments\n",
        "\n",
        "\n",
        "### Preparation (nothing to submit):\n",
        "To be able to answer the VADER questions you need to know how the tool works.\n",
        "* Read more about the VADER tool in [this blog](https://www.geeksforgeeks.org/python-sentiment-analysis-using-vader/).  \n",
        "* VADER provides 4 scores (positive, negative, neutral, compound). Be sure to understand what they mean and how they are calculated.\n",
        "* VADER uses rules to handle linguistic phenomena such as negation and intensification. Be sure to understand which rules are used, how they work, and why they are important.\n",
        "* VADER makes use of a sentiment lexicon. Have a look at the lexicon. Be sure to understand which information can be found there (lemma?, wordform?, part-of-speech?, polarity value?, word meaning?) What do all scores mean? https://github.com/cjhutto/vaderSentiment/blob/master/vaderSentiment/vader_lexicon.txt)\n",
        "\n",
        "\n",
        "### [3.5 points] Question1:\n",
        "\n",
        "Regard the following sentences and their output as given by VADER. Regard sentences 1 to 7, and explain the outcome **for each sentence**. Take into account both the rules applied by VADER and the lexicon that is used. You will find that some of the results are reasonable, but others are not. Explain what is going wrong or not when correct and incorrect results are produced.\n",
        "\n",
        "```\n",
        "INPUT SENTENCE 1 I love apples\n",
        "VADER OUTPUT {'neg': 0.0, 'neu': 0.192, 'pos': 0.808, 'compound': 0.6369}\n",
        "\n",
        "INPUT SENTENCE 2 I don't love apples\n",
        "VADER OUTPUT {'neg': 0.627, 'neu': 0.373, 'pos': 0.0, 'compound': -0.5216}\n",
        "\n",
        "INPUT SENTENCE 3 I love apples :-)\n",
        "VADER OUTPUT {'neg': 0.0, 'neu': 0.133, 'pos': 0.867, 'compound': 0.7579}\n",
        "\n",
        "INPUT SENTENCE 4 These houses are ruins\n",
        "VADER OUTPUT {'neg': 0.492, 'neu': 0.508, 'pos': 0.0, 'compound': -0.4404}\n",
        "\n",
        "INPUT SENTENCE 5 These houses are certainly not considered ruins\n",
        "VADER OUTPUT {'neg': 0.0, 'neu': 0.51, 'pos': 0.49, 'compound': 0.5867}\n",
        "\n",
        "INPUT SENTENCE 6 He lies in the chair in the garden\n",
        "VADER OUTPUT {'neg': 0.286, 'neu': 0.714, 'pos': 0.0, 'compound': -0.4215}\n",
        "\n",
        "INPUT SENTENCE 7 This house is like any house\n",
        "VADER OUTPUT {'neg': 0.0, 'neu': 0.667, 'pos': 0.333, 'compound': 0.3612}\n",
        "```"
      ]
    },
    {
      "cell_type": "markdown",
      "source": [
        "1. We find that the first sentence is valid. The sentence \"I love apples\" is a possitive sentence and thus the compound score should reflect the positivity exhibited in the sentence. In this case, since the compound score is 0.6369 (which is a high positive score), we can conclude that the sentence is positive.\n",
        "\n",
        "2. The sentence \"I don't love apples\" is the opposite of the first sentence and thus it is a negative sentence. In this case we expect VEDAR to poduce a high negative score for the sentence, which is reflected in the -0.5216 (high negative score) score.\n",
        "\n",
        "3. \"I love apples :-)\" is a similar sentence to the first one. While it is arguable wheather in this sentence the extra smily face really increases the positivity of the sentence, we at least expect the score to be as positive if not more positive then the first sentence since the same wording is used. We see that the score for this sentence is 0.7579, which is higher then the 1st sentence observed score of 0.6369.\n",
        "\n",
        "4. \"These houses are in ruins\" is a sentence carrying a negative sentiment. From these sentences we expect a high negative score, which should distinguish it from the neutral score and with a VADER score of -0.4404, we find that the sentence is indead classified as a negative sentence with a high negative compound score.\n",
        "\n",
        "5. \"These houses are certainly not considered ruins\". We would consider this sentence to be a neutral sentence. If we compare it to the first sentence: \"I love apples\" we see that the score difference between the 2 is only about 0.0502, but we can clearly tell that the first sentence is much more positive than the second one. From the VADAR output, we can see that the sentence receives a more neutral score than positive one, but because the compound score is a \"weighted\" score, the words, which are considered positive, have much more \"weight\" and thus VADER gives this sentence a much more positive score than we would agree with. We believe that this should be much closer to neutral (still a positive score, just not as positive) than VADER curretly classifies it as.\n",
        "\n",
        "6. \"He lies in the chair in the garder\". This sentence is classified as a negative sentence, when the sentence should have been classified as a neutral one. VADER classified the sentence as negative because it did not distinguish between the two different versions of \"lies\": \"lies to a person\", meaning that you tell a false statement to another person that you might or might not know is not true, whilst \"lies on a bed\", meaning to sit/rest on top of a bed. In this case VEDAR only considered the \"lies\" word to refer to the act of providing false information, thus the sentence was classified as a negative sentence, when in fact it should have been classified as a neutral sentence.\n",
        "\n",
        "7. \"This house is like any other house.\" The following sentence was classified as a positive sentence with the score of 0.3612, when it should have been classified as a neutral sentence. As could be seen with sentence 5, VADER gave a much bigger nuetral score to the sentence that a positive one, but because of how the compound score is \"weighted\", the compound score produced a much more positive result than expected. This is due to relitively high \"weight\" of the word \"like\" which in this context means \"similar to\", while VEDAR considered the words meaning to be \"enjoy/prefer\". Thus the score became much more positive.\n",
        "\n",
        "From these examples, we can see that VADER does not take into account the surrounding context around a word to judge if a words has a positive meaning or a negative one."
      ],
      "metadata": {
        "id": "vwrw6TwSkieM"
      }
    },
    {
      "cell_type": "markdown",
      "metadata": {
        "id": "4TYpA3Pvcd5u"
      },
      "source": [
        "### [Points: 2.5] Exercise 2: Collecting 50 tweets for evaluation\n",
        "Collect 50 tweets. Try to find tweets that are interesting for sentiment analysis, e.g., very positive, neutral, and negative tweets. These could be your own tweets (typed in) or collected from the Twitter stream. If you have trouble accessing Twitter, try to find an existing dataset (on websites like kaggle or huggingface).\n",
        "\n",
        "We will store the tweets in the file **my_tweets.json** (use a text editor to edit).\n",
        "For each tweet, you should insert:\n",
        "* sentiment analysis label: negative | neutral | positive (this you determine yourself, this is not done by a computer)\n",
        "* the text of the tweet\n",
        "* the Tweet-URL\n",
        "\n",
        "from:\n",
        "```\n",
        "    \"1\": {\n",
        "        \"sentiment_label\": \"\",\n",
        "        \"text_of_tweet\": \"\",\n",
        "        \"tweet_url\": \"\",\n",
        "```\n",
        "to:\n",
        "```\n",
        "\"1\": {\n",
        "        \"sentiment_label\": \"positive\",\n",
        "        \"text_of_tweet\": \"All across America people chose to get involved, get engaged and stand up. Each of us can make a difference, and all of us ought to try. So go keep changing the world in 2018.\",\n",
        "        \"tweet_url\" : \"https://twitter.com/BarackObama/status/946775615893655552\",\n",
        "    },\n",
        "```"
      ]
    },
    {
      "cell_type": "markdown",
      "metadata": {
        "id": "LBlbWyQhcd5u"
      },
      "source": [
        "You can load your tweets with human annotation in the following way."
      ]
    },
    {
      "cell_type": "code",
      "execution_count": 1,
      "metadata": {
        "id": "_qWKcuSZcd5x"
      },
      "outputs": [],
      "source": [
        "import json"
      ]
    },
    {
      "cell_type": "code",
      "execution_count": 2,
      "metadata": {
        "id": "m_B3KDoWcd5y"
      },
      "outputs": [],
      "source": [
        "my_tweets = json.load(open('my_tweets.json'))"
      ]
    },
    {
      "cell_type": "code",
      "execution_count": 5,
      "metadata": {
        "id": "c2DngMN1cd5z",
        "outputId": "a84849ff-280b-40d7-b19b-14939cefec78",
        "colab": {
          "base_uri": "https://localhost:8080/"
        }
      },
      "outputs": [
        {
          "output_type": "stream",
          "name": "stdout",
          "text": [
            "1 {'sentiment_label': 'negative', 'text_of_tweet': \"They don't want you to know what SIDS REALLY is.\", 'tweet_url': 'https://x.com/DiedSuddenly_/status/1917356956936986696'}\n"
          ]
        }
      ],
      "source": [
        "for id_, tweet_info in my_tweets.items():\n",
        "    print(id_, tweet_info)\n",
        "    break"
      ]
    },
    {
      "cell_type": "markdown",
      "metadata": {
        "id": "4g77Dsaecd54"
      },
      "source": [
        "### [5 points] Question 3:\n",
        "\n",
        "Run VADER on your own tweets (see function **run_vader** from notebook **Lab2-Sentiment-analysis-using-VADER.ipynb**). You can use the code snippet below this explanation as a starting point.\n",
        "* [2.5 points] a. Perform a quantitative evaluation. Explain the different scores, and explain which scores are most relevant and why.\n",
        "* [2.5 points] b. Perform an error analysis: select 10 positive, 10 negative and 10 neutral tweets that are not correctly classified and try to understand why. Refer to the VADER-rules and the VADER-lexicon. Of course, if there are less than 10 errors for a category, you only have to check those. For example, if there are only 5 errors for positive tweets, you just describe those."
      ]
    },
    {
      "cell_type": "code",
      "source": [
        "import nltk\n",
        "nltk.download('vader_lexicon')"
      ],
      "metadata": {
        "id": "HF_0vbYStlXG",
        "outputId": "08c70f50-8a21-4863-d9f8-4a9fe778fdf6",
        "colab": {
          "base_uri": "https://localhost:8080/"
        }
      },
      "execution_count": 9,
      "outputs": [
        {
          "output_type": "stream",
          "name": "stderr",
          "text": [
            "[nltk_data] Downloading package vader_lexicon to /root/nltk_data...\n"
          ]
        },
        {
          "output_type": "execute_result",
          "data": {
            "text/plain": [
              "True"
            ]
          },
          "metadata": {},
          "execution_count": 9
        }
      ]
    },
    {
      "cell_type": "code",
      "source": [
        "from nltk.sentiment import vader\n",
        "\n",
        "from nltk.sentiment.vader import SentimentIntensityAnalyzer\n",
        "vader_model = SentimentIntensityAnalyzer()\n",
        "\n",
        "import spacy\n",
        "nlp = spacy.load('en_core_web_sm')\n",
        "\n",
        "def run_vader(textual_unit,\n",
        "              lemmatize=False,\n",
        "              parts_of_speech_to_consider=None,\n",
        "              verbose=0):\n",
        "    \"\"\"\n",
        "    Run VADER on a sentence from spacy\n",
        "\n",
        "    :param str textual unit: a textual unit, e.g., sentence, sentences (one string)\n",
        "    (by looping over doc.sents)\n",
        "    :param bool lemmatize: If True, provide lemmas to VADER instead of words\n",
        "    :param set parts_of_speech_to_consider:\n",
        "    -None or empty set: all parts of speech are provided\n",
        "    -non-empty set: only these parts of speech are considered.\n",
        "    :param int verbose: if set to 1, information is printed\n",
        "    about input and output\n",
        "\n",
        "    :rtype: dict\n",
        "    :return: vader output dict\n",
        "    \"\"\"\n",
        "    doc = nlp(textual_unit)\n",
        "\n",
        "    input_to_vader = []\n",
        "\n",
        "    for sent in doc.sents:\n",
        "        for token in sent:\n",
        "\n",
        "            to_add = token.text\n",
        "\n",
        "            if lemmatize:\n",
        "                to_add = token.lemma_\n",
        "\n",
        "                if to_add == '-PRON-':\n",
        "                    to_add = token.text\n",
        "\n",
        "            if parts_of_speech_to_consider:\n",
        "                if token.pos_ in parts_of_speech_to_consider:\n",
        "                    input_to_vader.append(to_add)\n",
        "            else:\n",
        "                input_to_vader.append(to_add)\n",
        "\n",
        "    scores = vader_model.polarity_scores(' '.join(input_to_vader))\n",
        "\n",
        "    if verbose >= 1:\n",
        "        print()\n",
        "        print('INPUT SENTENCE', sent)\n",
        "        print('INPUT TO VADER', input_to_vader)\n",
        "        print('VADER OUTPUT', scores)\n",
        "\n",
        "    return scores"
      ],
      "metadata": {
        "id": "_azMfW3-tC3M"
      },
      "execution_count": 10,
      "outputs": []
    },
    {
      "cell_type": "code",
      "execution_count": 11,
      "metadata": {
        "id": "JQYlIQVAcd54"
      },
      "outputs": [],
      "source": [
        "def vader_output_to_label(vader_output):\n",
        "    \"\"\"\n",
        "    map vader output e.g.,\n",
        "    {'neg': 0.0, 'neu': 0.0, 'pos': 1.0, 'compound': 0.4215}\n",
        "    to one of the following values:\n",
        "    a) positive float -> 'positive'\n",
        "    b) 0.0 -> 'neutral'\n",
        "    c) negative float -> 'negative'\n",
        "\n",
        "    :param dict vader_output: output dict from vader\n",
        "\n",
        "    :rtype: str\n",
        "    :return: 'negative' | 'neutral' | 'positive'\n",
        "    \"\"\"\n",
        "    compound = vader_output['compound']\n",
        "\n",
        "    if compound < 0:\n",
        "        return 'negative'\n",
        "    elif compound == 0.0:\n",
        "        return 'neutral'\n",
        "    elif compound > 0.0:\n",
        "        return 'positive'\n",
        "\n",
        "assert vader_output_to_label( {'neg': 0.0, 'neu': 0.0, 'pos': 1.0, 'compound': 0.0}) == 'neutral'\n",
        "assert vader_output_to_label( {'neg': 0.0, 'neu': 0.0, 'pos': 1.0, 'compound': 0.01}) == 'positive'\n",
        "assert vader_output_to_label( {'neg': 0.0, 'neu': 0.0, 'pos': 1.0, 'compound': -0.01}) == 'negative'"
      ]
    },
    {
      "cell_type": "code",
      "execution_count": 17,
      "metadata": {
        "id": "gHTeMkT8cd55",
        "outputId": "f4b3e98d-f430-432a-94a1-7aaadabf1197",
        "colab": {
          "base_uri": "https://localhost:8080/"
        }
      },
      "outputs": [
        {
          "output_type": "stream",
          "name": "stdout",
          "text": [
            "Dataset balance: 15 positive - 30.0, 18 negative - 36.0, 17 neutral - 34.0\n",
            "\n",
            "              precision    recall  f1-score   support\n",
            "\n",
            "    negative       0.87      0.72      0.79        18\n",
            "     neutral       0.62      0.29      0.40        17\n",
            "    positive       0.48      0.87      0.62        15\n",
            "\n",
            "    accuracy                           0.62        50\n",
            "   macro avg       0.66      0.63      0.60        50\n",
            "weighted avg       0.67      0.62      0.61        50\n",
            "\n"
          ]
        }
      ],
      "source": [
        "tweets = []\n",
        "all_vader_output = []\n",
        "gold = []\n",
        "\n",
        "pos_num = 0\n",
        "neg_num = 0\n",
        "neu_num = 0\n",
        "\n",
        "# settings (to change for different experiments)\n",
        "to_lemmatize = True\n",
        "pos = set()\n",
        "\n",
        "for id_, tweet_info in my_tweets.items():\n",
        "    the_tweet = tweet_info['text_of_tweet']\n",
        "    vader_output = run_vader(the_tweet) # run vader\n",
        "    vader_label = vader_output_to_label(vader_output) # convert vader output to category\n",
        "\n",
        "    tweets.append(the_tweet)\n",
        "    all_vader_output.append(vader_label)\n",
        "    gold.append(tweet_info['sentiment_label'])\n",
        "    if tweet_info['sentiment_label'] == 'positive':\n",
        "        pos_num += 1\n",
        "    elif tweet_info['sentiment_label'] == 'negative':\n",
        "        neg_num += 1\n",
        "    elif tweet_info['sentiment_label'] == 'neutral':\n",
        "        neu_num += 1\n",
        "\n",
        "print(f'Dataset balance: {pos_num} positive - {100 * pos_num / 50}, {neg_num} negative - {100 * neg_num / 50}, {neu_num} neutral - {100 * neu_num / 50}\\n')\n",
        "\n",
        "# use scikit-learn's classification report\n",
        "from sklearn.metrics import classification_report\n",
        "print(classification_report(gold, all_vader_output))"
      ]
    },
    {
      "cell_type": "markdown",
      "source": [
        "a) We use the scikit-learn's classification report module to find the precision, recal, f1-score, and support scores for each label. First, we calculate the class-balance in our dataset to see if the dataset is in any way skewed and if we should consider this in our further analysis. In this case, we find that the dataset is class-balanced and thus we don't need to worry about unbalanced classes in our further analysis."
      ],
      "metadata": {
        "id": "a5mAY5M2uoNU"
      }
    },
    {
      "cell_type": "markdown",
      "metadata": {
        "id": "2rruKqJhcd5-"
      },
      "source": [
        "### [4 points] Question 4:\n",
        "Run VADER on the set of airline tweets with the following settings:\n",
        "\n",
        "* Run VADER (as it is) on the set of airline tweets\n",
        "* Run VADER on the set of airline tweets after having lemmatized the text\n",
        "* Run VADER on the set of airline tweets with only adjectives\n",
        "* Run VADER on the set of airline tweets with only adjectives and after having lemmatized the text\n",
        "* Run VADER on the set of airline tweets with only nouns\n",
        "* Run VADER on the set of airline tweets with only nouns and after having lemmatized the text\n",
        "* Run VADER on the set of airline tweets with only verbs\n",
        "* Run VADER on the set of airline tweets with only verbs and after having lemmatized the text\n",
        "\n",
        "* [1 point] a. Generate for all separate experiments the classification report, i.e., Precision, Recall, and F<sub>1</sub> scores per category as well as micro and macro averages. **Use a different code cell (or multiple code cells) for each experiment.**\n",
        "* [3 points] b. Compare the scores and explain what they tell you.\n",
        "* - Does lemmatisation help? Explain why or why not.\n",
        "* - Are all parts of speech equally important for sentiment analysis? Explain why or why not."
      ]
    },
    {
      "cell_type": "code",
      "execution_count": null,
      "metadata": {
        "id": "Ap3M_sN9cd5_"
      },
      "outputs": [],
      "source": [
        "# Your code here\n"
      ]
    },
    {
      "cell_type": "markdown",
      "metadata": {
        "id": "NOxY4UyFcd5_"
      },
      "source": [
        "## Part II: scikit-learn assignments\n",
        "### [4 points] Question 5\n",
        "Train the scikit-learn classifier (Naive Bayes) using the airline tweets.\n",
        "\n",
        "+ Train the model on the airline tweets with 80% training and 20% test set and default settings (TF-IDF representation, min_df=2)\n",
        "+ Train with different settings:\n",
        "    + with respect to vectorizing: TF-IDF ('airline_tfidf') vs. Bag of words representation ('airline_count')\n",
        "    + with respect to the frequency threshold (min_df). Carry out experiments with increasing values for document frequency (min_df = 2; min_df = 5; min_df =10)\n",
        "* [1 point] a. Generate a classification_report for all experiments\n",
        "* [3 points] b. Look at the results of the experiments with the different settings and try to explain why they differ:\n",
        "    + which category performs best, is this the case for any setting?\n",
        "    + does the frequency threshold affect the scores? Why or why not according to you?"
      ]
    },
    {
      "cell_type": "code",
      "execution_count": null,
      "metadata": {
        "id": "Gkqp91-Jcd5_"
      },
      "outputs": [],
      "source": [
        "# Your code here\n"
      ]
    },
    {
      "cell_type": "markdown",
      "metadata": {
        "id": "OjaX2DsYcd6F"
      },
      "source": [
        "### [4 points] Question 6: Inspecting the best scoring features\n",
        "\n",
        "+ Train the scikit-learn classifier (Naive Bayes) model with the following settings (airline tweets 80% training and 20% test;  Bag of words representation ('airline_count'), min_df=2)\n",
        "* [1 point] a. Generate the list of best scoring features per class (see function **important_features_per_class** below) [1 point]\n",
        "* [3 points] b. Look at the lists and consider the following issues:\n",
        "    + [1 point] Which features did you expect for each separate class and why?\n",
        "    + [1 point] Which features did you not expect and why ?\n",
        "    + [1 point] The list contains all kinds of words such as names of airlines, punctuation, numbers and content words (e.g., 'delay' and 'bad'). Which words would you remove or keep when trying to improve the model and why?"
      ]
    },
    {
      "cell_type": "code",
      "execution_count": null,
      "metadata": {
        "id": "zsdURW0Ocd6F"
      },
      "outputs": [],
      "source": [
        "def important_features_per_class(vectorizer,classifier,n=80):\n",
        "    class_labels = classifier.classes_\n",
        "    feature_names =vectorizer.get_feature_names()\n",
        "    topn_class1 = sorted(zip(classifier.feature_count_[0], feature_names),reverse=True)[:n]\n",
        "    topn_class2 = sorted(zip(classifier.feature_count_[1], feature_names),reverse=True)[:n]\n",
        "    topn_class3 = sorted(zip(classifier.feature_count_[2], feature_names),reverse=True)[:n]\n",
        "    print(\"Important words in negative documents\")\n",
        "    for coef, feat in topn_class1:\n",
        "        print(class_labels[0], coef, feat)\n",
        "    print(\"-----------------------------------------\")\n",
        "    print(\"Important words in neutral documents\")\n",
        "    for coef, feat in topn_class2:\n",
        "        print(class_labels[1], coef, feat)\n",
        "    print(\"-----------------------------------------\")\n",
        "    print(\"Important words in positive documents\")\n",
        "    for coef, feat in topn_class3:\n",
        "        print(class_labels[2], coef, feat)\n",
        "\n",
        "# example of how to call from notebook:\n",
        "#important_features_per_class(airline_vec, clf)"
      ]
    },
    {
      "cell_type": "markdown",
      "metadata": {
        "id": "v1C1OsVqcd6F"
      },
      "source": [
        "### [Optional! (will not  be graded)] Question 7\n",
        "Train the model on airline tweets and test it on your own set of tweets\n",
        "+ Train the model with the following settings (airline tweets 80% training and 20% test;  Bag of words representation ('airline_count'), min_df=2)\n",
        "+ Apply the model on your own set of tweets and generate the classification report\n",
        "* [1 point] a. Carry out a quantitative analysis.\n",
        "* [1 point] b. Carry out an error analysis on 10 correctly and 10 incorrectly classified tweets and discuss them\n",
        "* [2 points] c. Compare the results (cf. classification report) with the results obtained by VADER on the same tweets and discuss the differences."
      ]
    },
    {
      "cell_type": "markdown",
      "metadata": {
        "id": "9YqJgkBkcd6F"
      },
      "source": [
        "### [Optional! (will not be graded)] Question 8: trying to improve the model\n",
        "* [2 points] a. Think of some ways to improve the scikit-learn Naive Bayes model by playing with the settings or applying linguistic preprocessing (e.g., by filtering on part-of-speech, or removing punctuation). Do not change the classifier but continue using the Naive Bayes classifier. Explain what the effects might be of these other settings\n",
        "+ [1 point] b. Apply the model with at least one new setting (train on the airline tweets using 80% training, 20% test) and generate the scores\n",
        "* [1 point] c. Discuss whether the model achieved what you expected."
      ]
    },
    {
      "cell_type": "markdown",
      "metadata": {
        "id": "QwgbkmuPcd6L"
      },
      "source": [
        "## End of this notebook"
      ]
    },
    {
      "cell_type": "code",
      "execution_count": null,
      "metadata": {
        "id": "ZKu5-QJ4cd6L"
      },
      "outputs": [],
      "source": []
    }
  ],
  "metadata": {
    "kernelspec": {
      "display_name": "Python 3 (ipykernel)",
      "language": "python",
      "name": "python3"
    },
    "language_info": {
      "codemirror_mode": {
        "name": "ipython",
        "version": 3
      },
      "file_extension": ".py",
      "mimetype": "text/x-python",
      "name": "python",
      "nbconvert_exporter": "python",
      "pygments_lexer": "ipython3",
      "version": "3.12.3"
    },
    "colab": {
      "provenance": []
    }
  },
  "nbformat": 4,
  "nbformat_minor": 0
}