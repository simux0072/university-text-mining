{
  "cells": [
    {
      "cell_type": "markdown",
      "metadata": {
        "id": "dDhd67T6dKNW"
      },
      "source": [
        "# Lab 1 - Introduction to the [Natural Language Toolkit](https://www.nltk.org/) (NLTK)\n",
        "\n",
        "Copyright: Vrije Universiteit Amsterdam, Faculty of Humanities, CLTL\n",
        "\n",
        "In this notebook, we will use the [Natural Language Toolkit](https://www.nltk.org/) to perform various Natural Language Processing tasks including sentence splitting, stop word recognition, and Named Entity Recognition (NER). The Natural Language Toolkit is a python package that provides easy access to [popular corpora and lexical resources](https://www.nltk.org/book/ch02.html#tab-corpora). Also, it contains a wide range of text processing modules (hence the name **toolkit**). NLTK is perfect for getting started with Natural Language Processing since it allows you to study each NLP task separately, which means that you can analyze the input, the algorithm, and the output.  NLTK is an open source and community-driven project."
      ]
    },
    {
      "cell_type": "markdown",
      "metadata": {
        "id": "qmBSODfCdKNZ"
      },
      "source": [
        "**Main goal of this notebook**: The most important goal of this notebook is to show you how to perform various NLP tasks using NLTK. It is important that you can use the code snippets from this notebook on other language data."
      ]
    },
    {
      "cell_type": "markdown",
      "metadata": {
        "id": "YZjG2GzPdKNa"
      },
      "source": [
        "**At the end of this notebook, you will be able to perform the following NLP tasks using NLTK**:\n",
        "* **Sentence splitting**: *nltk.tokenize.sent_tokenize*\n",
        "* **Tokenization**: *nltk.word_tokenize*\n",
        "* **Part-of-speech (POS) tagging**: *nltk.pos_tag*\n",
        "* **Stop words recognition**\n",
        "* **Stemming and lemmatization**\n",
        "     * *nltk.stem.porter.PorterStemmer*\n",
        "     * *nltk.stem.snowball.SnowballStemmer*\n",
        "     * *nltk.stem.wordnet.WordNetLemmatizer*\n",
        "* **Constituency/dependency parsing** *nltk.RegexpParser*\n",
        "* **Named Entity Recognition (NER)** *nltk.chunk.ne_chunk*"
      ]
    },
    {
      "cell_type": "markdown",
      "metadata": {
        "id": "UXRvEzr4dKNb"
      },
      "source": [
        "**If you want to learn more about these topics, you might find the following links useful (information from these blogs is used in this notebook):**\n",
        "* [NLTK book](https://www.nltk.org/book/)\n",
        "* [official NLTK website](https://www.nltk.org/)\n",
        "* [an introduction to NLTK](https://www.pythonforengineers.com/introduction-to-nltk-natural-language-processing-with-python/)\n",
        "* [another introduction to NLTK](https://nlpforhackers.io/introduction-nltk/)\n",
        "* [yet another introduction to NLTK](https://textminingonline.com/dive-into-nltk-part-i-getting-started-with-nltk)\n",
        "* [introduction to tokenization from Stanford](https://nlp.stanford.edu/IR-book/html/htmledition/tokenization-1.html)\n",
        "* [introduction to part of speech tagging](http://aritter.github.io/courses/5525_slides/pos1.pdf)\n",
        "* [introduction to stemming and lemmatization](https://nlp.stanford.edu/IR-book/html/htmledition/stemming-and-lemmatization-1.html)\n",
        "* [comparison stemming and lemmatization](https://blog.bitext.com/what-is-the-difference-between-stemming-and-lemmatization/)\n",
        "* [introduction to Named Entity Recognition](https://www.codementor.io/bofinbabu/introduction-to-named-entity-recognition-ner-k584v86r6)\n",
        "* [introduction to Named Entity Recognition using NLTK](https://nlpforhackers.io/named-entity-extraction/)"
      ]
    },
    {
      "cell_type": "markdown",
      "metadata": {
        "id": "lgSKUBasdKNc"
      },
      "source": [
        "## Getting started ([NLTK Chapter 1, Section 1.2](https://www.nltk.org/book/ch01.html))"
      ]
    },
    {
      "cell_type": "markdown",
      "metadata": {
        "id": "Wj0YFAi5dKNc"
      },
      "source": [
        "Please try to import the NLTK module by running the cell below:"
      ]
    },
    {
      "cell_type": "code",
      "source": [
        "!pip install nltk"
      ],
      "metadata": {
        "id": "x7DG9f8TeBQv",
        "outputId": "9efb6a58-c40d-45d7-dda9-3612ae04cd6d",
        "colab": {
          "base_uri": "https://localhost:8080/"
        }
      },
      "execution_count": 1,
      "outputs": [
        {
          "output_type": "stream",
          "name": "stdout",
          "text": [
            "Requirement already satisfied: nltk in /usr/local/lib/python3.11/dist-packages (3.9.1)\n",
            "Requirement already satisfied: click in /usr/local/lib/python3.11/dist-packages (from nltk) (8.1.8)\n",
            "Requirement already satisfied: joblib in /usr/local/lib/python3.11/dist-packages (from nltk) (1.4.2)\n",
            "Requirement already satisfied: regex>=2021.8.3 in /usr/local/lib/python3.11/dist-packages (from nltk) (2024.11.6)\n",
            "Requirement already satisfied: tqdm in /usr/local/lib/python3.11/dist-packages (from nltk) (4.67.1)\n"
          ]
        }
      ]
    },
    {
      "cell_type": "code",
      "execution_count": 2,
      "metadata": {
        "id": "9TUnvroYdKNd"
      },
      "outputs": [],
      "source": [
        "from pprint import pprint ### needed to print python data more elegantly\n",
        "import nltk"
      ]
    },
    {
      "cell_type": "markdown",
      "metadata": {
        "id": "YuNsGgWZdKNd"
      },
      "source": [
        "If you get an error, such as *ModuleNotFoundError: No module named 'nltk'*, please install the module using for example `conda install -c anaconda nltk ` and try again."
      ]
    },
    {
      "cell_type": "markdown",
      "metadata": {
        "id": "HSzRgh1rdKNe"
      },
      "source": [
        "### Downloading data sets\n",
        "The first time you import NLTK on your local machine, you will need to download the data sets that we will use in this course. When you run the cell below, you will get a pop-up window to select which data sets to download. The minimal data set you need is `book`. Take your time to check out the different TABs and get an idea of what is there. Make sure you have sufficient disk space to store what you want.\n",
        "\n",
        "If you have already run the download command, you can skip the next step as the data are in your local drive. If you need another dataset, rerun it and take your pick.\n",
        "\n",
        "**Tip:** comment out *nltk.download()* after you've used it, such that you can use *Restart kernel and run all cells*"
      ]
    },
    {
      "cell_type": "code",
      "execution_count": 4,
      "metadata": {
        "scrolled": true,
        "id": "m6HilKOLdKNf",
        "outputId": "a5ed1c08-1395-4e55-bef7-3eff38817fba",
        "colab": {
          "base_uri": "https://localhost:8080/"
        }
      },
      "outputs": [
        {
          "name": "stdout",
          "output_type": "stream",
          "text": [
            "NLTK Downloader\n",
            "---------------------------------------------------------------------------\n",
            "    d) Download   l) List    u) Update   c) Config   h) Help   q) Quit\n",
            "---------------------------------------------------------------------------\n",
            "Downloader> d\n",
            "\n",
            "Download which package (l=list; x=cancel)?\n",
            "  Identifier> book\n"
          ]
        },
        {
          "output_type": "stream",
          "name": "stderr",
          "text": [
            "    Downloading collection 'book'\n",
            "       | \n",
            "       | Downloading package abc to /root/nltk_data...\n",
            "       |   Unzipping corpora/abc.zip.\n",
            "       | Downloading package brown to /root/nltk_data...\n",
            "       |   Unzipping corpora/brown.zip.\n",
            "       | Downloading package chat80 to /root/nltk_data...\n",
            "       |   Unzipping corpora/chat80.zip.\n",
            "       | Downloading package cmudict to /root/nltk_data...\n",
            "       |   Unzipping corpora/cmudict.zip.\n",
            "       | Downloading package conll2000 to /root/nltk_data...\n",
            "       |   Unzipping corpora/conll2000.zip.\n",
            "       | Downloading package conll2002 to /root/nltk_data...\n",
            "       |   Unzipping corpora/conll2002.zip.\n",
            "       | Downloading package dependency_treebank to /root/nltk_data...\n",
            "       |   Unzipping corpora/dependency_treebank.zip.\n",
            "       | Downloading package genesis to /root/nltk_data...\n",
            "       |   Unzipping corpora/genesis.zip.\n",
            "       | Downloading package gutenberg to /root/nltk_data...\n",
            "       |   Unzipping corpora/gutenberg.zip.\n",
            "       | Downloading package ieer to /root/nltk_data...\n",
            "       |   Unzipping corpora/ieer.zip.\n",
            "       | Downloading package inaugural to /root/nltk_data...\n",
            "       |   Unzipping corpora/inaugural.zip.\n",
            "       | Downloading package movie_reviews to /root/nltk_data...\n",
            "       |   Unzipping corpora/movie_reviews.zip.\n",
            "       | Downloading package nps_chat to /root/nltk_data...\n",
            "       |   Unzipping corpora/nps_chat.zip.\n",
            "       | Downloading package names to /root/nltk_data...\n",
            "       |   Unzipping corpora/names.zip.\n",
            "       | Downloading package ppattach to /root/nltk_data...\n",
            "       |   Unzipping corpora/ppattach.zip.\n",
            "       | Downloading package reuters to /root/nltk_data...\n",
            "       | Downloading package senseval to /root/nltk_data...\n",
            "       |   Unzipping corpora/senseval.zip.\n",
            "       | Downloading package state_union to /root/nltk_data...\n",
            "       |   Unzipping corpora/state_union.zip.\n",
            "       | Downloading package stopwords to /root/nltk_data...\n",
            "       |   Unzipping corpora/stopwords.zip.\n",
            "       | Downloading package swadesh to /root/nltk_data...\n",
            "       |   Unzipping corpora/swadesh.zip.\n",
            "       | Downloading package timit to /root/nltk_data...\n",
            "       |   Unzipping corpora/timit.zip.\n",
            "       | Downloading package treebank to /root/nltk_data...\n",
            "       |   Unzipping corpora/treebank.zip.\n",
            "       | Downloading package toolbox to /root/nltk_data...\n",
            "       |   Unzipping corpora/toolbox.zip.\n",
            "       | Downloading package udhr to /root/nltk_data...\n",
            "       |   Unzipping corpora/udhr.zip.\n",
            "       | Downloading package udhr2 to /root/nltk_data...\n",
            "       |   Unzipping corpora/udhr2.zip.\n",
            "       | Downloading package unicode_samples to /root/nltk_data...\n",
            "       |   Unzipping corpora/unicode_samples.zip.\n",
            "       | Downloading package webtext to /root/nltk_data...\n",
            "       |   Unzipping corpora/webtext.zip.\n",
            "       | Downloading package wordnet to /root/nltk_data...\n",
            "       | Downloading package wordnet_ic to /root/nltk_data...\n",
            "       |   Unzipping corpora/wordnet_ic.zip.\n",
            "       | Downloading package words to /root/nltk_data...\n",
            "       |   Unzipping corpora/words.zip.\n",
            "       | Downloading package maxent_treebank_pos_tagger to\n",
            "       |     /root/nltk_data...\n",
            "       |   Unzipping taggers/maxent_treebank_pos_tagger.zip.\n",
            "       | Downloading package maxent_ne_chunker to /root/nltk_data...\n",
            "       |   Unzipping chunkers/maxent_ne_chunker.zip.\n",
            "       | Downloading package universal_tagset to /root/nltk_data...\n",
            "       |   Unzipping taggers/universal_tagset.zip.\n",
            "       | Downloading package punkt to /root/nltk_data...\n",
            "       |   Unzipping tokenizers/punkt.zip.\n",
            "       | Downloading package book_grammars to /root/nltk_data...\n",
            "       |   Unzipping grammars/book_grammars.zip.\n",
            "       | Downloading package city_database to /root/nltk_data...\n",
            "       |   Unzipping corpora/city_database.zip.\n",
            "       | Downloading package tagsets to /root/nltk_data...\n",
            "       |   Unzipping help/tagsets.zip.\n",
            "       | Downloading package panlex_swadesh to /root/nltk_data...\n",
            "       | Downloading package averaged_perceptron_tagger to\n",
            "       |     /root/nltk_data...\n",
            "       |   Unzipping taggers/averaged_perceptron_tagger.zip.\n",
            "       | \n",
            "     Done downloading collection book\n"
          ]
        },
        {
          "name": "stdout",
          "output_type": "stream",
          "text": [
            "\n",
            "---------------------------------------------------------------------------\n",
            "    d) Download   l) List    u) Update   c) Config   h) Help   q) Quit\n",
            "---------------------------------------------------------------------------\n",
            "Downloader> q\n"
          ]
        },
        {
          "output_type": "execute_result",
          "data": {
            "text/plain": [
              "True"
            ]
          },
          "metadata": {},
          "execution_count": 4
        }
      ],
      "source": [
        "nltk.download()"
      ]
    },
    {
      "cell_type": "markdown",
      "metadata": {
        "id": "3zXZ5HKbdKNg"
      },
      "source": [
        "Note: When you run `nltk.download()` a star will appear to the left of the code cell. An nltk downloader program should open. If the program does not show, you can simply replace `nltk.download()` by `nltk.download('book')`."
      ]
    },
    {
      "cell_type": "markdown",
      "metadata": {
        "id": "l6pGyjywdKNh"
      },
      "source": [
        "Please run the following cell to check that you can import the Brown corpus (which is part of the *book* data set)"
      ]
    },
    {
      "cell_type": "code",
      "execution_count": 5,
      "metadata": {
        "id": "M4aHzNS-dKNi"
      },
      "outputs": [],
      "source": [
        "from nltk.corpus import brown"
      ]
    },
    {
      "cell_type": "markdown",
      "metadata": {
        "id": "3a3VRkdMdKNi"
      },
      "source": [
        "Now that you have everything installed, we can get started with some examples of text processing using NLTK!"
      ]
    },
    {
      "cell_type": "markdown",
      "metadata": {
        "id": "iUsjC3q9dKNj"
      },
      "source": [
        "## Sentence splitting ([NLTK Chapter 3, Section 3.8](https://www.nltk.org/book/ch03.html))\n",
        "Consider the following input that is given to a computer:"
      ]
    },
    {
      "cell_type": "code",
      "execution_count": 6,
      "metadata": {
        "id": "z1ZU5UEqdKNj",
        "outputId": "d2fdb2a3-d260-444e-8232-7037e13c5427",
        "colab": {
          "base_uri": "https://localhost:8080/"
        }
      },
      "outputs": [
        {
          "output_type": "stream",
          "name": "stdout",
          "text": [
            "Another ex-Golden Stater, Paul Stankowski from Oxnard, is contending for a berth on the U.S. Ryder Cup team after winning his first PGA Tour event last year and staying within three strokes of the lead through three rounds of last month's U.S. Open. H.J. Heinz Company said it completed the sale of its Ore-Ida frozen-food business catering to the service industry to McCain Foods Ltd. for about $500 million. It's the first group action of its kind in Britain.\n"
          ]
        }
      ],
      "source": [
        "a_text = '''Another ex-Golden Stater, Paul Stankowski from Oxnard, is contending for a berth on the U.S. Ryder Cup team after winning his first PGA Tour event last year and staying within three strokes of the lead through three rounds of last month's U.S. Open. H.J. Heinz Company said it completed the sale of its Ore-Ida frozen-food business catering to the service industry to McCain Foods Ltd. for about $500 million. It's the first group action of its kind in Britain.'''\n",
        "print(a_text)"
      ]
    },
    {
      "cell_type": "markdown",
      "metadata": {
        "id": "scfz_efedKNj"
      },
      "source": [
        "Before the computer can apply most kinds of NLP tasks, it has to know what the separate sentences are."
      ]
    },
    {
      "cell_type": "markdown",
      "metadata": {
        "id": "NGIKSI-hdKNk"
      },
      "source": [
        "Let's try splitting the text using a **dot**"
      ]
    },
    {
      "cell_type": "code",
      "execution_count": 7,
      "metadata": {
        "id": "2mHaAlcDdKNk",
        "outputId": "d2b11dfc-d0ba-40bf-9fef-78931c4321f7",
        "colab": {
          "base_uri": "https://localhost:8080/"
        }
      },
      "outputs": [
        {
          "output_type": "stream",
          "name": "stdout",
          "text": [
            "SENTENCE: 1 Another ex-Golden Stater, Paul Stankowski from Oxnard, is contending for a berth on the U\n",
            "SENTENCE: 2 S\n",
            "SENTENCE: 3  Ryder Cup team after winning his first PGA Tour event last year and staying within three strokes of the lead through three rounds of last month's U\n",
            "SENTENCE: 4 S\n",
            "SENTENCE: 5  Open\n",
            "SENTENCE: 6  H\n",
            "SENTENCE: 7 J\n",
            "SENTENCE: 8  Heinz Company said it completed the sale of its Ore-Ida frozen-food business catering to the service industry to McCain Foods Ltd\n",
            "SENTENCE: 9  for about $500 million\n",
            "SENTENCE: 10  It's the first group action of its kind in Britain\n",
            "SENTENCE: 11 \n"
          ]
        }
      ],
      "source": [
        "dot_splitted_text = a_text.split('.')\n",
        "for index, sentence in enumerate(dot_splitted_text, 1):\n",
        "    print(f'SENTENCE: {index} {sentence}')"
      ]
    },
    {
      "cell_type": "markdown",
      "metadata": {
        "id": "LNWOZiuSdKNk"
      },
      "source": [
        "This clearly did not work. Many abbreviations such us **U.S.** have dots in them. However, sentences normally start with a capital letter. What would happen if we split a text using a dot followed by a space followed by a capital letter? This should work, right?"
      ]
    },
    {
      "cell_type": "markdown",
      "metadata": {
        "id": "aYhseSBHdKNl"
      },
      "source": [
        "For this we need to be able to define a pattern. We are going to use the Regular Expressions package *re* to define a pattern. This is explained in [NLTK Chapter 3, Section 3.4](https://www.nltk.org/book/ch03.html)."
      ]
    },
    {
      "cell_type": "code",
      "execution_count": 8,
      "metadata": {
        "id": "UbDgsFgNdKNl",
        "outputId": "72932220-7147-42f6-861c-13744eb3793b",
        "colab": {
          "base_uri": "https://localhost:8080/"
        }
      },
      "outputs": [
        {
          "output_type": "stream",
          "name": "stdout",
          "text": [
            "SENTENCE: 1 Another ex-Golden Stater, Paul Stankowski from Oxnard, is contending for a berth on the U.S\n",
            "SENTENCE: 2 yder Cup team after winning his first PGA Tour event last year and staying within three strokes of the lead through three rounds of last month's U.S\n",
            "SENTENCE: 3 pen\n",
            "SENTENCE: 4 .J\n",
            "SENTENCE: 5 einz Company said it completed the sale of its Ore-Ida frozen-food business catering to the service industry to McCain Foods Ltd. for about $500 million\n",
            "SENTENCE: 6 t's the first group action of its kind in Britain.\n"
          ]
        }
      ],
      "source": [
        "import re\n",
        "splitted_using_dot_space_capital = re.split(r'\\. [A-Z]', a_text)\n",
        "for index, sentence in enumerate(splitted_using_dot_space_capital, 1):\n",
        "    print(f'SENTENCE: {index} {sentence}')"
      ]
    },
    {
      "cell_type": "markdown",
      "metadata": {
        "id": "Xu2eKU9AdKNl"
      },
      "source": [
        "Unfortunately no. In our text, we have the following sequences:\n",
        "* **U.S. Ryder**\n",
        "* **H.J. Heinz Company**"
      ]
    },
    {
      "cell_type": "markdown",
      "metadata": {
        "id": "vc-s1KLLdKNm"
      },
      "source": [
        "Conclusion, it is actually not that easy. Luckily, NLTK contains models that are more complex than what we've just seen. Let's see how it performs on our text."
      ]
    },
    {
      "cell_type": "code",
      "execution_count": 9,
      "metadata": {
        "id": "pAfHzoYcdKNn"
      },
      "outputs": [],
      "source": [
        "from nltk.tokenize import sent_tokenize"
      ]
    },
    {
      "cell_type": "code",
      "source": [
        "nltk.download('punkt_tab')"
      ],
      "metadata": {
        "id": "Jtu-c2ele_U-",
        "outputId": "d8e5bf78-0bfc-4261-9245-9ee66e684567",
        "colab": {
          "base_uri": "https://localhost:8080/"
        }
      },
      "execution_count": 11,
      "outputs": [
        {
          "output_type": "stream",
          "name": "stderr",
          "text": [
            "[nltk_data] Downloading package punkt_tab to /root/nltk_data...\n",
            "[nltk_data]   Unzipping tokenizers/punkt_tab.zip.\n"
          ]
        },
        {
          "output_type": "execute_result",
          "data": {
            "text/plain": [
              "True"
            ]
          },
          "metadata": {},
          "execution_count": 11
        }
      ]
    },
    {
      "cell_type": "code",
      "execution_count": 12,
      "metadata": {
        "id": "AHs0MQJYdKNn",
        "outputId": "46c2d6fb-70ec-464f-fe20-766da0ae37c2",
        "colab": {
          "base_uri": "https://localhost:8080/"
        }
      },
      "outputs": [
        {
          "output_type": "stream",
          "name": "stdout",
          "text": [
            "SENTENCE: 1 Another ex-Golden Stater, Paul Stankowski from Oxnard, is contending for a berth on the U.S. Ryder Cup team after winning his first PGA Tour event last year and staying within three strokes of the lead through three rounds of last month's U.S. Open.\n",
            "SENTENCE: 2 H.J.\n",
            "SENTENCE: 3 Heinz Company said it completed the sale of its Ore-Ida frozen-food business catering to the service industry to McCain Foods Ltd. for about $500 million.\n",
            "SENTENCE: 4 It's the first group action of its kind in Britain.\n"
          ]
        }
      ],
      "source": [
        "nltk_sentence_splitted = sent_tokenize(a_text)\n",
        "for index, sentence in enumerate(nltk_sentence_splitted, 1):\n",
        "    print(f'SENTENCE: {index} {sentence}')"
      ]
    },
    {
      "cell_type": "markdown",
      "metadata": {
        "id": "U8LXkZgGdKNn"
      },
      "source": [
        "Interestingly, the model is not perfect. It correctly determines that *U.S. Ryder Cup* is not the end of the sentence. However, it states that **H.J.** is the end of a sentence."
      ]
    },
    {
      "cell_type": "markdown",
      "metadata": {
        "id": "rH7gB-kAdKNn"
      },
      "source": [
        "## Tokenization ([NLTK Chapter 5, Section 1](https://www.nltk.org/book/ch05.html))"
      ]
    },
    {
      "cell_type": "markdown",
      "metadata": {
        "id": "iU8K2kQddKNn"
      },
      "source": [
        "One of the first steps of Natural Language Processing is tokenization. It is generally defined as chopping a text into pieces, which are called tokens."
      ]
    },
    {
      "cell_type": "markdown",
      "metadata": {
        "id": "Lk_n8nTAdKNn"
      },
      "source": [
        "The most naive way to apply tokenization is to split a text using spaces. Let's try this. Please run the following cell."
      ]
    },
    {
      "cell_type": "code",
      "execution_count": 13,
      "metadata": {
        "id": "ZCVMcdoAdKNo",
        "outputId": "e403c3fb-1975-4008-a3d7-cf4603e983ea",
        "colab": {
          "base_uri": "https://localhost:8080/"
        }
      },
      "outputs": [
        {
          "output_type": "stream",
          "name": "stdout",
          "text": [
            "[\"I'll\", 'refuse', 'to', 'permit', 'you', 'to', 'obtain', 'the', 'refuse', 'permit.']\n"
          ]
        }
      ],
      "source": [
        "example_sentence = \"I'll refuse to permit you to obtain the refuse permit.\"\n",
        "tokenized_using_spaces = example_sentence.split(' ')\n",
        "print(tokenized_using_spaces)"
      ]
    },
    {
      "cell_type": "markdown",
      "metadata": {
        "id": "94T4vS-VdKNo"
      },
      "source": [
        ":Think about the above line, is it actually the same as tokenizing?"
      ]
    },
    {
      "cell_type": "markdown",
      "metadata": {
        "id": "ljp6igzMdKNo"
      },
      "source": [
        ".."
      ]
    },
    {
      "cell_type": "markdown",
      "metadata": {
        "id": "mxosnThrdKNp"
      },
      "source": [
        ".."
      ]
    },
    {
      "cell_type": "markdown",
      "metadata": {
        "id": "anz5nMYOdKNp"
      },
      "source": [
        "Well, yes and no. Tokenizing using spaces works for most tokens. However, it does not work for expressions such as **I'll**."
      ]
    },
    {
      "cell_type": "markdown",
      "metadata": {
        "id": "U_1H3aK3dKNp"
      },
      "source": [
        "Let's try a real tokenizer...."
      ]
    },
    {
      "cell_type": "code",
      "execution_count": 14,
      "metadata": {
        "id": "uvVvEibqdKNq",
        "outputId": "0b800d8e-9a7f-470a-8e86-6859004e3b14",
        "colab": {
          "base_uri": "https://localhost:8080/"
        }
      },
      "outputs": [
        {
          "output_type": "stream",
          "name": "stdout",
          "text": [
            "['I', \"'ll\", 'refuse', 'to', 'permit', 'you', 'to', 'obtain', 'the', 'refuse', 'permit', '.']\n"
          ]
        }
      ],
      "source": [
        "tokenized_using_tokenizer = nltk.word_tokenize(example_sentence)\n",
        "print(tokenized_using_tokenizer)"
      ]
    },
    {
      "cell_type": "markdown",
      "metadata": {
        "id": "XmCll_7gdKNq"
      },
      "source": [
        "Please note that **I'll** is now correctly tokenized."
      ]
    },
    {
      "cell_type": "markdown",
      "metadata": {
        "id": "68XM7BJFdKNq"
      },
      "source": [
        "## Part of speech tagging ([Chapter 5, Section 1 Using a Tagger](https://www.nltk.org/book/ch05.html))\n",
        "Now that we've established the tokens in a text, a useful next step is to determine the part of speech of each token.\n",
        "The part of speech is the syntactic category of a token.\n",
        "\n",
        "| the | red   | clown  | behaved  | weirdly  |\n",
        "|---|---|---|---|---|\n",
        "| determiner | adjective | noun | verb | adverb |\n",
        "\n",
        "We can replace tokens with another token with the same part of speech, and the sentence would still be grammatical. For example:\n",
        "* The **blue** clown behaved weirdly.\n",
        "* The red **cow** behaved weirdly.\n",
        "* The red clown **walked** weirdly.\n",
        "\n",
        "NLTK also provides a method to automatically tag each token in a text with a part of speech tag."
      ]
    },
    {
      "cell_type": "code",
      "source": [
        "nltk.download('averaged_perceptron_tagger_eng')"
      ],
      "metadata": {
        "id": "e8L-Q87rfeJ2",
        "outputId": "b9b15751-8d17-44cc-964b-c4f1fc0ce588",
        "colab": {
          "base_uri": "https://localhost:8080/"
        }
      },
      "execution_count": 16,
      "outputs": [
        {
          "output_type": "stream",
          "name": "stderr",
          "text": [
            "[nltk_data] Downloading package averaged_perceptron_tagger_eng to\n",
            "[nltk_data]     /root/nltk_data...\n",
            "[nltk_data]   Unzipping taggers/averaged_perceptron_tagger_eng.zip.\n"
          ]
        },
        {
          "output_type": "execute_result",
          "data": {
            "text/plain": [
              "True"
            ]
          },
          "metadata": {},
          "execution_count": 16
        }
      ]
    },
    {
      "cell_type": "code",
      "execution_count": 17,
      "metadata": {
        "id": "eqoqjTnmdKNs",
        "outputId": "c0c94490-6dd3-4c13-89b9-b4ba3a72d6d3",
        "colab": {
          "base_uri": "https://localhost:8080/"
        }
      },
      "outputs": [
        {
          "output_type": "execute_result",
          "data": {
            "text/plain": [
              "[('I', 'PRP'),\n",
              " (\"'ll\", 'MD'),\n",
              " ('refuse', 'VB'),\n",
              " ('to', 'TO'),\n",
              " ('permit', 'VB'),\n",
              " ('you', 'PRP'),\n",
              " ('to', 'TO'),\n",
              " ('obtain', 'VB'),\n",
              " ('the', 'DT'),\n",
              " ('refuse', 'NN'),\n",
              " ('permit', 'NN'),\n",
              " ('.', '.')]"
            ]
          },
          "metadata": {},
          "execution_count": 17
        }
      ],
      "source": [
        "nltk.pos_tag(['I', \"'ll\", 'refuse', 'to', 'permit', 'you', 'to', 'obtain', 'the', 'refuse', 'permit', '.'])"
      ]
    },
    {
      "cell_type": "markdown",
      "metadata": {
        "id": "6kV1o_jNdKNs"
      },
      "source": [
        "Please note that each token has now been tagged with a part of speech tag. You might be surprised to see **VB** instead of **verb**. The main reason is that there is not one group of part of speech labels, there are [many](https://www.sketchengine.eu/tagsets/english-part-of-speech-tagset/)! The most popular tagset in NLP is the [Penn Treebank POS tagset](https://www.ling.upenn.edu/courses/Fall_2003/ling001/penn_treebank_pos.html). This is also the default one used in NLTK."
      ]
    },
    {
      "cell_type": "markdown",
      "metadata": {
        "id": "8mvyZEtZdKNs"
      },
      "source": [
        "**Tasks**:\n",
        "* Make sure you know what each tag means.\n",
        "* Try some other sentences to get an idea of how the tagger works and where it fails."
      ]
    },
    {
      "cell_type": "code",
      "source": [
        "nltk.pos_tag(['The', 'changing', 'of', 'down', 'comforters', 'to', 'cotton', 'bedspreads', 'always', 'meant', 'the', 'squirrels', 'had', 'returned', '.'])"
      ],
      "metadata": {
        "id": "QrcefqW0fqwX",
        "outputId": "e8cf5297-5ebc-4a56-c3d1-1610ef0835c6",
        "colab": {
          "base_uri": "https://localhost:8080/"
        }
      },
      "execution_count": 19,
      "outputs": [
        {
          "output_type": "execute_result",
          "data": {
            "text/plain": [
              "[('The', 'DT'),\n",
              " ('changing', 'NN'),\n",
              " ('of', 'IN'),\n",
              " ('down', 'JJ'),\n",
              " ('comforters', 'NNS'),\n",
              " ('to', 'TO'),\n",
              " ('cotton', 'VB'),\n",
              " ('bedspreads', 'NNS'),\n",
              " ('always', 'RB'),\n",
              " ('meant', 'VBP'),\n",
              " ('the', 'DT'),\n",
              " ('squirrels', 'NNS'),\n",
              " ('had', 'VBD'),\n",
              " ('returned', 'VBN'),\n",
              " ('.', '.')]"
            ]
          },
          "metadata": {},
          "execution_count": 19
        }
      ]
    },
    {
      "cell_type": "markdown",
      "metadata": {
        "id": "4k7fUyMddKNt"
      },
      "source": [
        "## Removing Stop words\n",
        "An important step in preprocessing data is to remove words that are likely irrelevant to the type of NLP task that you want to perform.\n",
        "It's not uncommon to remove the most commonly used words, so-called *stop words*. NLTK actually keeps lists of stop words for many languages.\n",
        "We show how to remove stop words for English text."
      ]
    },
    {
      "cell_type": "code",
      "execution_count": 20,
      "metadata": {
        "id": "Zna89nNkdKNt"
      },
      "outputs": [],
      "source": [
        "from nltk.corpus import stopwords"
      ]
    },
    {
      "cell_type": "code",
      "execution_count": 21,
      "metadata": {
        "id": "Vl_NZOcOdKNt"
      },
      "outputs": [],
      "source": [
        "english_stopwords = stopwords.words('english')\n",
        "set_english_stopwords = set(english_stopwords) # sets are faster to check if an element is in"
      ]
    },
    {
      "cell_type": "code",
      "execution_count": 22,
      "metadata": {
        "id": "mfHlO0X5dKNt",
        "outputId": "4eb2e2b6-5af3-45b7-dd88-697b89976f57",
        "colab": {
          "base_uri": "https://localhost:8080/"
        }
      },
      "outputs": [
        {
          "output_type": "stream",
          "name": "stdout",
          "text": [
            "['a', 'about', 'above', 'after', 'again', 'against', 'ain', 'all', 'am', 'an', 'and', 'any', 'are', 'aren', \"aren't\", 'as', 'at', 'be', 'because', 'been', 'before', 'being', 'below', 'between', 'both', 'but', 'by', 'can', 'couldn', \"couldn't\", 'd', 'did', 'didn', \"didn't\", 'do', 'does', 'doesn', \"doesn't\", 'doing', 'don', \"don't\", 'down', 'during', 'each', 'few', 'for', 'from', 'further', 'had', 'hadn', \"hadn't\", 'has', 'hasn', \"hasn't\", 'have', 'haven', \"haven't\", 'having', 'he', \"he'd\", \"he'll\", 'her', 'here', 'hers', 'herself', \"he's\", 'him', 'himself', 'his', 'how', 'i', \"i'd\", 'if', \"i'll\", \"i'm\", 'in', 'into', 'is', 'isn', \"isn't\", 'it', \"it'd\", \"it'll\", \"it's\", 'its', 'itself', \"i've\", 'just', 'll', 'm', 'ma', 'me', 'mightn', \"mightn't\", 'more', 'most', 'mustn', \"mustn't\", 'my', 'myself', 'needn', \"needn't\", 'no', 'nor', 'not', 'now', 'o', 'of', 'off', 'on', 'once', 'only', 'or', 'other', 'our', 'ours', 'ourselves', 'out', 'over', 'own', 're', 's', 'same', 'shan', \"shan't\", 'she', \"she'd\", \"she'll\", \"she's\", 'should', 'shouldn', \"shouldn't\", \"should've\", 'so', 'some', 'such', 't', 'than', 'that', \"that'll\", 'the', 'their', 'theirs', 'them', 'themselves', 'then', 'there', 'these', 'they', \"they'd\", \"they'll\", \"they're\", \"they've\", 'this', 'those', 'through', 'to', 'too', 'under', 'until', 'up', 've', 'very', 'was', 'wasn', \"wasn't\", 'we', \"we'd\", \"we'll\", \"we're\", 'were', 'weren', \"weren't\", \"we've\", 'what', 'when', 'where', 'which', 'while', 'who', 'whom', 'why', 'will', 'with', 'won', \"won't\", 'wouldn', \"wouldn't\", 'y', 'you', \"you'd\", \"you'll\", 'your', \"you're\", 'yours', 'yourself', 'yourselves', \"you've\"]\n"
          ]
        }
      ],
      "source": [
        "print(english_stopwords)"
      ]
    },
    {
      "cell_type": "code",
      "execution_count": 23,
      "metadata": {
        "id": "SgKBFK26dKNu"
      },
      "outputs": [],
      "source": [
        "a_sentence = ['the', 'rain', 'on', 'the', 'roof', 'was', 'soothing']"
      ]
    },
    {
      "cell_type": "code",
      "execution_count": 24,
      "metadata": {
        "scrolled": true,
        "id": "YWIUQY5JdKNu",
        "outputId": "ee39c6cc-0fde-4a76-b023-48312621e4b2",
        "colab": {
          "base_uri": "https://localhost:8080/"
        }
      },
      "outputs": [
        {
          "output_type": "stream",
          "name": "stdout",
          "text": [
            "['rain', 'roof', 'soothing']\n"
          ]
        }
      ],
      "source": [
        "without_stopwords = []\n",
        "\n",
        "for token in a_sentence:\n",
        "    if token not in set_english_stopwords:\n",
        "        without_stopwords.append(token)\n",
        "\n",
        "print(without_stopwords)"
      ]
    },
    {
      "cell_type": "markdown",
      "metadata": {
        "id": "gSVulvRIdKNu"
      },
      "source": [
        "Yes! We've managed to remove the stopwords!"
      ]
    },
    {
      "cell_type": "markdown",
      "metadata": {
        "id": "xv0OeePndKNu"
      },
      "source": [
        "### Questions:\n",
        "* What are stopwords and why would you want to remove these from a text?\n",
        "* How would you make a stop word list automatically?"
      ]
    },
    {
      "cell_type": "markdown",
      "source": [
        "### Answers:\n",
        "- Stop words are words that occur frequently in a language, but do not carry significant meaning. Since they do not carry much meaning, removing them does not change the meaning of the sentence, but reduce computation times or data storage.\n",
        "- By compiling a large set of documents, then extracting each word in those documents, and then ranking them based on the frequency of the word. Finally, I would select a cutoff and take the most frequently used words up to that cutoff as the cutoff words."
      ],
      "metadata": {
        "id": "woVdYS1bg4Xb"
      }
    },
    {
      "cell_type": "markdown",
      "metadata": {
        "id": "GmA-Upp_dKNv"
      },
      "source": [
        "#### Cleaning up text"
      ]
    },
    {
      "cell_type": "markdown",
      "metadata": {
        "id": "Ui64BFIWdKNv"
      },
      "source": [
        "The text you want to analyze can sometimes be messy. Punctuation can be attached to words that are at the end of a sentence, e.g., **data.** in the example sentence below, or there are just strange characters attached to words, e.g., an underscore in **works** in the example sentence below. It is important to clean your text before analyzing it."
      ]
    },
    {
      "cell_type": "code",
      "execution_count": 25,
      "metadata": {
        "id": "Xn8VsOt5dKNw"
      },
      "outputs": [],
      "source": [
        "messy_sentence = \"The point of this example is to _learn how basic text cleaning works_ on *very simple* data.\""
      ]
    },
    {
      "cell_type": "code",
      "execution_count": 26,
      "metadata": {
        "id": "d4joYH6odKNw"
      },
      "outputs": [],
      "source": [
        "import string"
      ]
    },
    {
      "cell_type": "markdown",
      "metadata": {
        "id": "0N94Hl74dKNw"
      },
      "source": [
        "As an example, we will remove all occurrences from the following characters from our example sentences."
      ]
    },
    {
      "cell_type": "code",
      "execution_count": 27,
      "metadata": {
        "id": "FQ59XnbKdKNx",
        "outputId": "8e93ca99-b456-47f2-fee1-0c303ae78e5f",
        "colab": {
          "base_uri": "https://localhost:8080/"
        }
      },
      "outputs": [
        {
          "output_type": "stream",
          "name": "stdout",
          "text": [
            "!\"#$%&'()*+,-./:;<=>?@[\\]^_`{|}~\n"
          ]
        }
      ],
      "source": [
        "print(string.punctuation)"
      ]
    },
    {
      "cell_type": "markdown",
      "metadata": {
        "id": "mo_ezv6tdKNx"
      },
      "source": [
        "We first tokenize our example sentence:"
      ]
    },
    {
      "cell_type": "code",
      "execution_count": 28,
      "metadata": {
        "id": "WQkqiFmwdKNx",
        "outputId": "f199921f-905e-41c6-adf0-8374ccbb230d",
        "colab": {
          "base_uri": "https://localhost:8080/"
        }
      },
      "outputs": [
        {
          "output_type": "stream",
          "name": "stdout",
          "text": [
            "['The', 'point', 'of', 'this', 'example', 'is', 'to', '_learn', 'how', 'basic', 'text', 'cleaning', 'works_', 'on', '*', 'very', 'simple', '*', 'data', '.']\n"
          ]
        }
      ],
      "source": [
        "tokenized_messy_sentence = nltk.word_tokenize(messy_sentence)\n",
        "print(tokenized_messy_sentence)"
      ]
    },
    {
      "cell_type": "markdown",
      "metadata": {
        "id": "W6Xzs63DdKNy"
      },
      "source": [
        "Now we clean the tokens of these unwanted characters:"
      ]
    },
    {
      "cell_type": "code",
      "execution_count": 29,
      "metadata": {
        "id": "I7XqER8kdKNy",
        "outputId": "9d50c9a3-4090-47c8-b373-eb3bc0eafead",
        "colab": {
          "base_uri": "https://localhost:8080/"
        }
      },
      "outputs": [
        {
          "output_type": "stream",
          "name": "stdout",
          "text": [
            "\n",
            "OLD The\n",
            "NEW The\n",
            "\n",
            "OLD point\n",
            "NEW point\n",
            "\n",
            "OLD of\n",
            "NEW of\n",
            "\n",
            "OLD this\n",
            "NEW this\n",
            "\n",
            "OLD example\n",
            "NEW example\n",
            "\n",
            "OLD is\n",
            "NEW is\n",
            "\n",
            "OLD to\n",
            "NEW to\n",
            "\n",
            "OLD _learn\n",
            "NEW learn\n",
            "\n",
            "OLD how\n",
            "NEW how\n",
            "\n",
            "OLD basic\n",
            "NEW basic\n",
            "\n",
            "OLD text\n",
            "NEW text\n",
            "\n",
            "OLD cleaning\n",
            "NEW cleaning\n",
            "\n",
            "OLD works_\n",
            "NEW works\n",
            "\n",
            "OLD on\n",
            "NEW on\n",
            "\n",
            "OLD *\n",
            "NEW \n",
            "\n",
            "OLD very\n",
            "NEW very\n",
            "\n",
            "OLD simple\n",
            "NEW simple\n",
            "\n",
            "OLD *\n",
            "NEW \n",
            "\n",
            "OLD data\n",
            "NEW data\n",
            "\n",
            "OLD .\n",
            "NEW \n",
            "['The', 'point', 'of', 'this', 'example', 'is', 'to', 'learn', 'how', 'basic', 'text', 'cleaning', 'works', 'on', '', 'very', 'simple', '', 'data', '']\n"
          ]
        }
      ],
      "source": [
        "table = {ord(char): '' for char in string.punctuation} # in case you're interested, this is called a 'dict comprehension'\n",
        "\n",
        "cleaned_messy_sentence = []\n",
        "for messy_word in tokenized_messy_sentence:\n",
        "\n",
        "    cleaned_word = messy_word.translate(table) # the translate method allows us to remove all unwanted charachters\n",
        "    print()\n",
        "    print('OLD', messy_word)\n",
        "    print('NEW', cleaned_word)\n",
        "    cleaned_messy_sentence.append(cleaned_word)\n",
        "\n",
        "print(cleaned_messy_sentence)"
      ]
    },
    {
      "cell_type": "markdown",
      "metadata": {
        "id": "DS0Ti61VdKNy"
      },
      "source": [
        "As a result of cleaning out the asterisks, which were tokens by themselves, we've now ended up with some empty strings. If we want to remove them, we can add each token from `cleaned_messy_sentence` to a new list `cleaned_sentence`, unless it equals an empty string:"
      ]
    },
    {
      "cell_type": "code",
      "execution_count": 30,
      "metadata": {
        "id": "woMheUCAdKNz",
        "outputId": "be62e331-2cd7-4a8b-a9bd-4554ebb5fb61",
        "colab": {
          "base_uri": "https://localhost:8080/"
        }
      },
      "outputs": [
        {
          "output_type": "stream",
          "name": "stdout",
          "text": [
            "['The', 'point', 'of', 'this', 'example', 'is', 'to', 'learn', 'how', 'basic', 'text', 'cleaning', 'works', 'on', 'very', 'simple', 'data']\n"
          ]
        }
      ],
      "source": [
        "cleaned_sentence = [token for token in cleaned_messy_sentence if token != ''] # this is known as a 'list comprehension'\n",
        "print(cleaned_sentence)"
      ]
    },
    {
      "cell_type": "markdown",
      "metadata": {
        "id": "Q8w0HfTKdKNz"
      },
      "source": [
        "## Stemming and lemmatizing ([NLTK book Chapter 3, Section 3.6](https://www.nltk.org/book/ch03.html))\n",
        "NLTK has various modules for stripping inflection of words (stemming) or finding the lemma (the form you can find in a dictionary). Below is a script to stem and lemmatize the words in a text example after tokenizing the text."
      ]
    },
    {
      "cell_type": "code",
      "execution_count": 31,
      "metadata": {
        "scrolled": true,
        "id": "eUetBQBLdKNz"
      },
      "outputs": [],
      "source": [
        "raw=\"SHUT UP! Enough already, Ballstein! Who cares about Derek Zoolander anyway? The man has only one look, for Christ's sake! Blue Steel? Ferrari? Le Tigra?\""
      ]
    },
    {
      "cell_type": "code",
      "execution_count": 33,
      "metadata": {
        "scrolled": true,
        "id": "G7jvf0VqdKN0",
        "outputId": "811f9178-cc2c-4923-f9c7-d421b638c668",
        "colab": {
          "base_uri": "https://localhost:8080/"
        }
      },
      "outputs": [
        {
          "output_type": "stream",
          "name": "stdout",
          "text": [
            "Porter\n",
            "['shut', 'up', '!', 'enough', 'alreadi', ',', 'ballstein', '!', 'who', 'care', 'about', 'derek', 'zooland', 'anyway', '?', 'the', 'man', 'ha', 'onli', 'one', 'look', ',', 'for', 'christ', \"'s\", 'sake', '!', 'blue', 'steel', '?', 'ferrari', '?', 'le', 'tigra', '?']\n",
            "Snowball\n",
            "['shut', 'up', '!', 'enough', 'alreadi', ',', 'ballstein', '!', 'who', 'care', 'about', 'derek', 'zooland', 'anyway', '?', 'the', 'man', 'has', 'onli', 'one', 'look', ',', 'for', 'christ', \"'s\", 'sake', '!', 'blue', 'steel', '?', 'ferrari', '?', 'le', 'tigra', '?']\n",
            "Wordnet\n",
            "['SHUT', 'UP', '!', 'Enough', 'already', ',', 'Ballstein', '!', 'Who', 'care', 'about', 'Derek', 'Zoolander', 'anyway', '?', 'The', 'man', 'ha', 'only', 'one', 'look', ',', 'for', 'Christ', \"'s\", 'sake', '!', 'Blue', 'Steel', '?', 'Ferrari', '?', 'Le', 'Tigra', '?']\n"
          ]
        }
      ],
      "source": [
        "# Stemming and Lemmatizing\n",
        "from nltk.stem.porter import PorterStemmer\n",
        "from nltk.stem.snowball import SnowballStemmer\n",
        "from nltk.stem.wordnet import WordNetLemmatizer\n",
        "\n",
        "porter = PorterStemmer()\n",
        "snowball = SnowballStemmer('english')\n",
        "wordnet = WordNetLemmatizer()\n",
        "tokens = nltk.word_tokenize(raw)\n",
        "\n",
        "porterlemmas = []\n",
        "wordnetlemmas = []\n",
        "snowballlemmas = []\n",
        "\n",
        "for word in tokens:\n",
        "    porterlemmas.append(porter.stem(word))\n",
        "    snowballlemmas.append(snowball.stem(word))\n",
        "    wordnetlemmas.append(wordnet.lemmatize(word))\n",
        "\n",
        "print('Porter')\n",
        "print(porterlemmas)\n",
        "print('Snowball')\n",
        "print(snowballlemmas)\n",
        "print('Wordnet')\n",
        "print(wordnetlemmas)"
      ]
    },
    {
      "cell_type": "markdown",
      "metadata": {
        "id": "QIVIhFsgdKN0"
      },
      "source": [
        "## Question:\n",
        "* What difference do you notice between the three lists?"
      ]
    },
    {
      "cell_type": "markdown",
      "source": [
        "## Answer:\n",
        "1. The Porter stemmer seems to make every single token lower case, but does not do much more apart from that.\n",
        "2. The snowball stemmer makes tokens lowercase (same as the porter stemmer), but it also changed the token \"has\" to a token \"ha\".\n",
        "3. The WordNet Lemmatizer, seems to perserve the capatilization of words, but it also changed the word \"has\" to \"ha\"."
      ],
      "metadata": {
        "id": "65oksnLKjBmp"
      }
    },
    {
      "cell_type": "markdown",
      "metadata": {
        "id": "DEyjbhQIdKN1"
      },
      "source": [
        "## Named Entity Recognition (NER) ([NLTK Chapter 7, Section 5](https://www.nltk.org/book/ch07.html))\n",
        "In Named Entity Recognition, the goal is to determine which noun phrases refer to named entities.\n",
        "Named entities can be persons, locations, organizations, etc. (see [NLTK Chapter 7, Section 5](https://www.nltk.org/book/ch07.html) for more information on the task)."
      ]
    },
    {
      "cell_type": "code",
      "source": [
        "nltk.download('maxent_ne_chunker_tab')"
      ],
      "metadata": {
        "id": "lpLdq1hglIMR",
        "outputId": "f5ed730c-0687-4ee6-fd4d-abaecdd0e0be",
        "colab": {
          "base_uri": "https://localhost:8080/"
        }
      },
      "execution_count": 35,
      "outputs": [
        {
          "output_type": "stream",
          "name": "stderr",
          "text": [
            "[nltk_data] Downloading package maxent_ne_chunker_tab to\n",
            "[nltk_data]     /root/nltk_data...\n",
            "[nltk_data]   Unzipping chunkers/maxent_ne_chunker_tab.zip.\n"
          ]
        },
        {
          "output_type": "execute_result",
          "data": {
            "text/plain": [
              "True"
            ]
          },
          "metadata": {},
          "execution_count": 35
        }
      ]
    },
    {
      "cell_type": "code",
      "execution_count": 36,
      "metadata": {
        "id": "ZaS0DaqZdKN1",
        "outputId": "2190ba53-1feb-4319-d127-5d8f3bd73f11",
        "colab": {
          "base_uri": "https://localhost:8080/"
        }
      },
      "outputs": [
        {
          "output_type": "stream",
          "name": "stdout",
          "text": [
            "\n",
            "ORIGINAL SENTENCE In August, Samsung lost a US patent case to Apple and was ordered to pay its rival $1.05bn (£0.66bn) in damages for copying features of the iPad and iPhone in its Galaxy range of devices.\n",
            "NAMED ENTITY RECOGNITION OUTPUT (S\n",
            "  In/IN\n",
            "  (GPE August/NNP)\n",
            "  ,/,\n",
            "  (PERSON Samsung/NNP)\n",
            "  lost/VBD\n",
            "  a/DT\n",
            "  (GSP US/NNP)\n",
            "  patent/NN\n",
            "  case/NN\n",
            "  to/TO\n",
            "  (GPE Apple/NNP)\n",
            "  and/CC\n",
            "  was/VBD\n",
            "  ordered/VBN\n",
            "  to/TO\n",
            "  pay/VB\n",
            "  its/PRP$\n",
            "  rival/JJ\n",
            "  $/$\n",
            "  1.05bn/CD\n",
            "  (/(\n",
            "  £0.66bn/NN\n",
            "  )/)\n",
            "  in/IN\n",
            "  damages/NNS\n",
            "  for/IN\n",
            "  copying/VBG\n",
            "  features/NNS\n",
            "  of/IN\n",
            "  the/DT\n",
            "  (ORGANIZATION iPad/NN)\n",
            "  and/CC\n",
            "  (ORGANIZATION iPhone/NN)\n",
            "  in/IN\n",
            "  its/PRP$\n",
            "  (GPE Galaxy/NNP)\n",
            "  range/NN\n",
            "  of/IN\n",
            "  devices/NNS\n",
            "  ./.)\n",
            "\n",
            "ORIGINAL SENTENCE Samsung, which is the world's top mobile phone maker, is appealing the ruling.\n",
            "NAMED ENTITY RECOGNITION OUTPUT (S\n",
            "  (GPE Samsung/NNP)\n",
            "  ,/,\n",
            "  which/WDT\n",
            "  is/VBZ\n",
            "  the/DT\n",
            "  world/NN\n",
            "  's/POS\n",
            "  top/JJ\n",
            "  mobile/NN\n",
            "  phone/NN\n",
            "  maker/NN\n",
            "  ,/,\n",
            "  is/VBZ\n",
            "  appealing/VBG\n",
            "  the/DT\n",
            "  ruling/NN\n",
            "  ./.)\n",
            "\n",
            "ORIGINAL SENTENCE A similar case in the UK found in Samsung's favour and ordered Apple to publish an apology making clear that the South Korean firm had not copied its iPad when designing its own devices.\n",
            "NAMED ENTITY RECOGNITION OUTPUT (S\n",
            "  A/DT\n",
            "  similar/JJ\n",
            "  case/NN\n",
            "  in/IN\n",
            "  the/DT\n",
            "  (ORGANIZATION UK/NNP)\n",
            "  found/VBD\n",
            "  in/IN\n",
            "  (GPE Samsung/NNP)\n",
            "  's/POS\n",
            "  favour/NN\n",
            "  and/CC\n",
            "  ordered/VBD\n",
            "  (PERSON Apple/NNP)\n",
            "  to/TO\n",
            "  publish/VB\n",
            "  an/DT\n",
            "  apology/NN\n",
            "  making/VBG\n",
            "  clear/JJ\n",
            "  that/IN\n",
            "  the/DT\n",
            "  (LOCATION South/JJ Korean/JJ)\n",
            "  firm/NN\n",
            "  had/VBD\n",
            "  not/RB\n",
            "  copied/VBN\n",
            "  its/PRP$\n",
            "  iPad/NN\n",
            "  when/WRB\n",
            "  designing/VBG\n",
            "  its/PRP$\n",
            "  own/JJ\n",
            "  devices/NNS\n",
            "  ./.)\n"
          ]
        }
      ],
      "source": [
        "from nltk.chunk import ne_chunk\n",
        "\n",
        "text = '''In August, Samsung lost a US patent case to Apple and was ordered to pay its rival $1.05bn (£0.66bn) in damages for copying features of the iPad and iPhone in its Galaxy range of devices. Samsung, which is the world's top mobile phone maker, is appealing the ruling. A similar case in the UK found in Samsung's favour and ordered Apple to publish an apology making clear that the South Korean firm had not copied its iPad when designing its own devices.'''\n",
        "sentences = nltk.sent_tokenize(text)\n",
        "for sentence in sentences:\n",
        "\n",
        "    tokens = nltk.word_tokenize(sentence)\n",
        "    tokens_pos_tagged = nltk.pos_tag(tokens)\n",
        "    tokens_pos_tagged_and_named_entities = ne_chunk(tokens_pos_tagged)\n",
        "    print()\n",
        "    print('ORIGINAL SENTENCE', sentence)\n",
        "    print('NAMED ENTITY RECOGNITION OUTPUT', tokens_pos_tagged_and_named_entities)"
      ]
    },
    {
      "cell_type": "markdown",
      "metadata": {
        "id": "usSjNVeBdKN2"
      },
      "source": [
        "Please observe that for textual mentions such as **August** and **Samsung**, a named entity label is assigned.\n",
        "The most frequently used named entity labels are:\n",
        "* ORGANIZATION (e.g., Georgia-Pacific Corp.)\n",
        "* PERSON (e.g., Eddy Bonte, President Obama)\n",
        "* LOCATION (e.g., Murray River, Mount Everest)\n",
        "* DATE (e.g., June, 2008-06-29)\n",
        "* TIME (e.g., two fifty a m, 1:30 p.m.)\n",
        "* MONEY (e.g., 175 million Canadian Dollars, GBP 10.40)\n",
        "* PERCENT (e.g., twenty pct, 18.75 %)\n",
        "* FACILITY (e.g., Washington Monument, Stonehenge)\n",
        "* GPE (=Geo-Political Entity, e.g., South East Asia, Midlothian)"
      ]
    },
    {
      "cell_type": "markdown",
      "metadata": {
        "id": "XbLb0a0LdKN2"
      },
      "source": [
        "Please try to understand the output from NLTK regarding named entity recognition."
      ]
    },
    {
      "cell_type": "markdown",
      "metadata": {
        "id": "RPnJIs23dKN2"
      },
      "source": [
        "### Task\n",
        "* What do you think of the performance of the NER module in the NLTK?"
      ]
    },
    {
      "cell_type": "markdown",
      "source": [
        "The problem of Named Entity Recognition is a really tough one, and while the NER module in the NLTK library is not 100% accurate, it performs very well in recognizing these sentences."
      ],
      "metadata": {
        "id": "-b_tWnw5l3GB"
      }
    },
    {
      "cell_type": "markdown",
      "metadata": {
        "id": "Fz0rh3uDdKN2"
      },
      "source": [
        "## Constituency/dependency parsing ([NLTK Book Chapter 7, Section 2.1](https://www.nltk.org/book/ch07.html))\n",
        "Please consider the following sentence.\n",
        "- **the cat saw the dog.**\n",
        "\n",
        "As a speaker of English, you immediately start to parse the sentence. You determine that **the cat** is the subject, **saw** is the main verb, and **the dog** is the direct object. With **constituency/dependency parsing**, we attempt to teach computers to parse sentence just like humans do."
      ]
    },
    {
      "cell_type": "markdown",
      "metadata": {
        "id": "QLN9heRmdKN3"
      },
      "source": [
        "We will use a module called **RegexpParser**, which is part of NLTK."
      ]
    },
    {
      "cell_type": "code",
      "execution_count": 37,
      "metadata": {
        "id": "nAyDBj1QdKN3"
      },
      "outputs": [],
      "source": [
        "sentence = [(\"the\", \"DT\"), (\"little\", \"JJ\"),\n",
        "            (\"dog\", \"NN\"), (\"saw\", \"VBD\"), (\"the\", \"DT\"), (\"cat\", \"NN\")]"
      ]
    },
    {
      "cell_type": "markdown",
      "metadata": {
        "id": "CsQwftardKN3"
      },
      "source": [
        "We then create a very simple grammar, that we can extend later on."
      ]
    },
    {
      "cell_type": "code",
      "execution_count": 38,
      "metadata": {
        "id": "IlA_XCLydKN4"
      },
      "outputs": [],
      "source": [
        "grammar = 'NP: {<DT><NN>}'\n",
        "constituent_parser = nltk.RegexpParser(grammar)"
      ]
    },
    {
      "cell_type": "markdown",
      "metadata": {
        "id": "c5_54IntdKN4"
      },
      "source": [
        "Our grammar now only contains one rule, which states that a noun phrase (NP) consists of a determiner (DT) followed by a singular noun (NN).\n",
        "The tags come from the [Penn Treebank](https://www.ling.upenn.edu/courses/Fall_2003/ling001/penn_treebank_pos.html).\n",
        "\n",
        "Let's try to parse our example sentence 'the cat saw the dog'. We can inspect the parse result as a visualized tree structure, as well as by printing it."
      ]
    },
    {
      "cell_type": "code",
      "execution_count": 42,
      "metadata": {
        "id": "qHnBEDQydKN4",
        "outputId": "7c659d16-4819-4068-99f1-c430cb2e919f",
        "colab": {
          "base_uri": "https://localhost:8080/"
        }
      },
      "outputs": [
        {
          "output_type": "stream",
          "name": "stdout",
          "text": [
            "(S the/DT little/JJ dog/NN saw/VBD (NP the/DT cat/NN))\n"
          ]
        }
      ],
      "source": [
        "constituent_structure = constituent_parser.parse(sentence)\n",
        "print(constituent_structure) # print the sentence structure\n",
        "#constituent_structure.draw() # visualize the parse tree structure"
      ]
    },
    {
      "cell_type": "markdown",
      "metadata": {
        "id": "rW9HjU_SdKN5"
      },
      "source": [
        "Please note that **the cat** has now been identified as a noun phrase (NP). However, **the little dog** has not been identified, because we did not include that it was possible to have adjectives between the determiner and the noun. Let's fix that!"
      ]
    },
    {
      "cell_type": "code",
      "execution_count": 43,
      "metadata": {
        "id": "OVmW3dj0dKN5"
      },
      "outputs": [],
      "source": [
        "grammar = 'NP: {<DT><JJ>*<NN>}'\n",
        "constituent_parser = nltk.RegexpParser(grammar)"
      ]
    },
    {
      "cell_type": "markdown",
      "metadata": {
        "id": "JMWOdq6FdKN5"
      },
      "source": [
        "We've now changed the rule for an NP. A noun phrase is now defined as:\n",
        "* determiner (DT) followed by one adjective (JJ) followed by a singular noun (NN)\n",
        "\n",
        "The star is needed to indicate that the adjective is optional."
      ]
    },
    {
      "cell_type": "code",
      "execution_count": 45,
      "metadata": {
        "id": "pw5TLHukdKN6",
        "outputId": "5ccab8ba-6c54-479e-9d5c-46f4895e590f",
        "colab": {
          "base_uri": "https://localhost:8080/"
        }
      },
      "outputs": [
        {
          "output_type": "stream",
          "name": "stdout",
          "text": [
            "(S (NP the/DT little/JJ dog/NN) saw/VBD (NP the/DT cat/NN))\n"
          ]
        }
      ],
      "source": [
        "constituent_structure = constituent_parser.parse(sentence)\n",
        "print(constituent_structure) # print the sentence structure\n",
        "#constituent_structure.draw() # visualize the parse tree structure"
      ]
    },
    {
      "cell_type": "markdown",
      "metadata": {
        "id": "7GzG-9MsdKN6"
      },
      "source": [
        "You can continue to extend the grammar. Try to understand the following grammar:"
      ]
    },
    {
      "cell_type": "code",
      "execution_count": 46,
      "metadata": {
        "id": "Z1uJxAHvdKN7"
      },
      "outputs": [],
      "source": [
        "constituent_parser = nltk.RegexpParser('''\n",
        "NP: {<DT>? <JJ>* <NN>*} # NP\n",
        "P: {<IN>}           # Preposition\n",
        "V: {<V.*>}          # Verb\n",
        "PP: {<P> <NP>}      # PP -> P NP\n",
        "VP: {<V> <NP|PP>*}  # VP -> V (NP|PP)*''')"
      ]
    },
    {
      "cell_type": "code",
      "execution_count": 48,
      "metadata": {
        "id": "9J0t0JobdKN7",
        "outputId": "e2e680f2-7f80-4dc5-da79-55cb9a0d7fef",
        "colab": {
          "base_uri": "https://localhost:8080/"
        }
      },
      "outputs": [
        {
          "output_type": "stream",
          "name": "stdout",
          "text": [
            "[('In', 'IN'), ('the', 'DT'), ('house', 'NN'), ('the', 'DT'), ('yellow', 'JJ'), ('cat', 'NN'), ('saw', 'VBD'), ('the', 'DT'), ('dog', 'NN')]\n",
            "(S\n",
            "  (PP (P In/IN) (NP the/DT house/NN))\n",
            "  (NP the/DT yellow/JJ cat/NN)\n",
            "  (VP (V saw/VBD) (NP the/DT dog/NN)))\n"
          ]
        }
      ],
      "source": [
        "tokens = ['In', 'the', 'house', 'the', 'yellow', 'cat', 'saw', 'the', 'dog']\n",
        "tagged = nltk.pos_tag(tokens)\n",
        "print(tagged)\n",
        "constituent_structure = constituent_parser.parse(tagged)\n",
        "print(constituent_structure)\n",
        "#constituent_structure.draw()"
      ]
    },
    {
      "cell_type": "markdown",
      "metadata": {
        "id": "UejziD4CdKN7"
      },
      "source": [
        "### Save tree structure to file\n",
        "There are at least two ways of saving the tree structure to a file:\n",
        "1. you can drag the image to your Desktop or File Explorer/Finder.\n",
        "2. you can use the code snippet below (might need Ghostscript installation):"
      ]
    },
    {
      "cell_type": "markdown",
      "metadata": {
        "id": "DiFaj5EzdKN8"
      },
      "source": [
        "Please convert the .ps file to PDF."
      ]
    },
    {
      "cell_type": "markdown",
      "metadata": {
        "id": "6bFnSs46dKN8"
      },
      "source": [
        "If you get the following error:\n",
        "```\n",
        "===========================================================================\n",
        "NLTK was unable to find the gs file!\n",
        "Use software specific configuration paramaters or set the PATH environment variable.\n",
        "```\n",
        "\n",
        "**Solution**:\n",
        "* Download ghost script  and add it to path\n",
        "* How to download: https://wiki.scribus.net/canvas/Installation_and_Configuration_of_Ghostscript\n",
        "* On Windows it is not added to Path automatically; add C:\\Program Files\\gs\\gs9.19\\bin\n",
        "* Kernel needs to be restarted to reload PATH. Probably, even Anaconda needs to be restarted to know the new environment variable."
      ]
    },
    {
      "cell_type": "markdown",
      "metadata": {
        "id": "35yFfPZJdKN8"
      },
      "source": [
        "# End of this notebook"
      ]
    }
  ],
  "metadata": {
    "kernelspec": {
      "display_name": "Python 3 (ipykernel)",
      "language": "python",
      "name": "python3"
    },
    "language_info": {
      "codemirror_mode": {
        "name": "ipython",
        "version": 3
      },
      "file_extension": ".py",
      "mimetype": "text/x-python",
      "name": "python",
      "nbconvert_exporter": "python",
      "pygments_lexer": "ipython3",
      "version": "3.12.3"
    },
    "colab": {
      "provenance": []
    }
  },
  "nbformat": 4,
  "nbformat_minor": 0
}